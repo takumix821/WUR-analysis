{
 "cells": [
  {
   "attachments": {},
   "cell_type": "markdown",
   "metadata": {},
   "source": [
    "在過去曾經觀察到不同機構對學生人數多寡影響排名的趨勢不同的現象，因此本專案要將近兩年THE和QS兩個排名機構的公布資料加以比較，判斷該現象是否仍然存在，並找出可能影響排名的因素。"
   ]
  },
  {
   "cell_type": "code",
   "execution_count": 1,
   "metadata": {},
   "outputs": [],
   "source": [
    "import pandas as pd\n",
    "import numpy as np\n",
    "from sklearn.linear_model import LinearRegression\n",
    "from scipy import stats\n",
    "import matplotlib.pyplot as plt"
   ]
  },
  {
   "cell_type": "code",
   "execution_count": 3,
   "metadata": {},
   "outputs": [],
   "source": [
    "# read data\n",
    "qs_2023 = pd.read_csv('../QS/qs_2023_refine.csv')\n",
    "the_2023 = pd.read_csv('../THE/the_2023_refine.csv')"
   ]
  },
  {
   "attachments": {},
   "cell_type": "markdown",
   "metadata": {},
   "source": [
    "觀察離群值"
   ]
  },
  {
   "cell_type": "code",
   "execution_count": 25,
   "metadata": {},
   "outputs": [],
   "source": [
    "rbind_students = np.r_[qs_2023['Total students'], the_2023['Total Students']]\n",
    "mean_rbind_students = rbind_students.mean()\n",
    "std_rbind_students = rbind_students.std()"
   ]
  },
  {
   "cell_type": "code",
   "execution_count": 29,
   "metadata": {},
   "outputs": [],
   "source": [
    "outlier_qs = qs_2023[(qs_2023['Total students'] > mean_rbind_students + 3*std_rbind_students) | \\\n",
    "        (qs_2023['Total students'] < mean_rbind_students - 3*std_rbind_students)]"
   ]
  },
  {
   "cell_type": "code",
   "execution_count": 30,
   "metadata": {},
   "outputs": [
    {
     "data": {
      "text/plain": [
       "(array([2., 0., 0., 1., 0., 2., 3., 0., 4., 3.]),\n",
       " array([  67. ,  190.3,  313.6,  436.9,  560.2,  683.5,  806.8,  930.1,\n",
       "        1053.4, 1176.7, 1300. ]),\n",
       " <BarContainer object of 10 artists>)"
      ]
     },
     "execution_count": 30,
     "metadata": {},
     "output_type": "execute_result"
    },
    {
     "data": {
      "image/png": "[encoded data removed]",
      "text/plain": [
       "<Figure size 432x288 with 1 Axes>"
      ]
     },
     "metadata": {
      "needs_background": "light"
     },
     "output_type": "display_data"
    }
   ],
   "source": [
    "plt.hist(outlier_qs['rank'])"
   ]
  },
  {
   "cell_type": "code",
   "execution_count": 32,
   "metadata": {},
   "outputs": [],
   "source": [
    "outlier_the = the_2023[(the_2023['Total Students'] > mean_rbind_students + 2*std_rbind_students) | \\\n",
    "        (the_2023['Total Students'] < mean_rbind_students - 2*std_rbind_students)]"
   ]
  },
  {
   "cell_type": "code",
   "execution_count": 33,
   "metadata": {},
   "outputs": [
    {
     "data": {
      "text/plain": [
       "(array([1., 2., 0., 2., 0., 5., 8., 0., 9., 5.]),\n",
       " array([  18. ,  151.2,  284.4,  417.6,  550.8,  684. ,  817.2,  950.4,\n",
       "        1083.6, 1216.8, 1350. ]),\n",
       " <BarContainer object of 10 artists>)"
      ]
     },
     "execution_count": 33,
     "metadata": {},
     "output_type": "execute_result"
    },
    {
     "data": {
      "image/png": "[encoded data removed]",
      "text/plain": [
       "<Figure size 432x288 with 1 Axes>"
      ]
     },
     "metadata": {
      "needs_background": "light"
     },
     "output_type": "display_data"
    }
   ],
   "source": [
    "plt.hist(outlier_the['rank'])"
   ]
  },
  {
   "attachments": {},
   "cell_type": "markdown",
   "metadata": {},
   "source": [
    "outlier較常發生在名次較後面的國家"
   ]
  },
  {
   "attachments": {},
   "cell_type": "markdown",
   "metadata": {},
   "source": [
    "#### QS\n",
    "- 比較QS學生人數, 師生比, 國際學生人數是否影響 rank\n",
    "\n",
    "定義變數"
   ]
  },
  {
   "cell_type": "code",
   "execution_count": 34,
   "metadata": {},
   "outputs": [],
   "source": [
    "X1 = qs_2023['Total students']\n",
    "X2 = qs_2023['International students']\n",
    "X3 = qs_2023['Total students'] / qs_2023['Total faculty staff']\n",
    "y = qs_2023['rank']"
   ]
  },
  {
   "cell_type": "code",
   "execution_count": 39,
   "metadata": {},
   "outputs": [
    {
     "data": {
      "image/png": "[encoded data removed]",
      "text/plain": [
       "<Figure size 864x216 with 3 Axes>"
      ]
     },
     "metadata": {
      "needs_background": "light"
     },
     "output_type": "display_data"
    }
   ],
   "source": [
    "fig = plt.figure(figsize=(12, 3)) \n",
    "ax = fig.add_subplot(1, 3, 1)\n",
    "plt.plot(X1, y, 'o')\n",
    "ax = fig.add_subplot(1, 3, 2)\n",
    "plt.plot(X2, y, 'o')\n",
    "ax = fig.add_subplot(1, 3, 3)\n",
    "plt.plot(X3, y, 'o')\n",
    "plt.show()"
   ]
  },
  {
   "cell_type": "code",
   "execution_count": 40,
   "metadata": {},
   "outputs": [
    {
     "name": "stdout",
     "output_type": "stream",
     "text": [
      "R square score = 0.43\n",
      "第 [] 個變數不顯著\n"
     ]
    }
   ],
   "source": [
    "X = np.c_[X1, X2, X3]\n",
    "lm = LinearRegression()\n",
    "reg = lm.fit(X, y)\n",
    "yhat = reg.predict(X)\n",
    "R2 = ((y - yhat)** 2).sum() / ((y - y.mean()) ** 2).sum()\n",
    "print('R square score =', round(1-R2, 2))\n",
    "\n",
    "se_b = [np.sqrt( ((y - yhat)**2).sum() / (len(y)-2) ) / np.sqrt( ((X[:,i] - X[:,i].mean())**2).sum() ) for i in range(X.shape[1])]\n",
    "\n",
    "not_sig = []\n",
    "for i in range(len(reg.coef_)):\n",
    "    if abs(reg.coef_[i] / se_b[i]) < stats.t.ppf(0.95, df = len(y)-2):\n",
    "        not_sig = not_sig + [i]\n",
    "print('第', not_sig, '個變數不顯著')"
   ]
  },
  {
   "attachments": {},
   "cell_type": "markdown",
   "metadata": {},
   "source": [
    "試著調整離群值較多的$x_2, x_3$"
   ]
  },
  {
   "cell_type": "code",
   "execution_count": 41,
   "metadata": {},
   "outputs": [
    {
     "name": "stdout",
     "output_type": "stream",
     "text": [
      "R square score = 0.54\n",
      "第 [] 個變數不顯著\n"
     ]
    }
   ],
   "source": [
    "X = np.c_[X1, X2**0.5, np.log(X3)]\n",
    "y = qs_2023['rank']\n",
    "reg = lm.fit(X, y)\n",
    "yhat = reg.predict(X)\n",
    "R2 = ((y - yhat)** 2).sum() / ((y - y.mean()) ** 2).sum()\n",
    "print('R square score =', round(1-R2, 2))\n",
    "\n",
    "se_b = [np.sqrt( ((y - yhat)**2).sum() / (len(y)-2) ) / np.sqrt( ((X[:,i] - X[:,i].mean())**2).sum() ) for i in range(X.shape[1])]\n",
    "\n",
    "not_sig = []\n",
    "for i in range(len(reg.coef_)):\n",
    "    if abs(reg.coef_[i] / se_b[i]) < stats.t.ppf(0.95, df = len(y)-2):\n",
    "        not_sig = not_sig + [i]\n",
    "print('第', not_sig, '個變數不顯著')"
   ]
  },
  {
   "cell_type": "code",
   "execution_count": 42,
   "metadata": {},
   "outputs": [
    {
     "data": {
      "text/plain": [
       "[0.0011908130454726354, -7.608094485776371, 397.0182705989192]"
      ]
     },
     "execution_count": 42,
     "metadata": {},
     "output_type": "execute_result"
    }
   ],
   "source": [
    "reg.coef_.tolist()"
   ]
  },
  {
   "cell_type": "code",
   "execution_count": 45,
   "metadata": {},
   "outputs": [
    {
     "data": {
      "image/png": "[encoded data removed]",
      "text/plain": [
       "<Figure size 864x216 with 3 Axes>"
      ]
     },
     "metadata": {
      "needs_background": "light"
     },
     "output_type": "display_data"
    }
   ],
   "source": [
    "fig = plt.figure(figsize=(12, 3)) \n",
    "ax = fig.add_subplot(1, 3, 1)\n",
    "plt.plot(X1, y, 'o')\n",
    "ax = fig.add_subplot(1, 3, 2)\n",
    "plt.plot(X2**0.5, y, 'o')\n",
    "ax = fig.add_subplot(1, 3, 3)\n",
    "plt.plot(np.log(X3), y, 'o')\n",
    "plt.show()"
   ]
  },
  {
   "attachments": {},
   "cell_type": "markdown",
   "metadata": {},
   "source": [
    "最終模型寫為  \n",
    "    $\\hat{y} = 0.002 x_1 -7.61 \\sqrt{x_2} + 397.02 \\log(x_3)$"
   ]
  },
  {
   "attachments": {},
   "cell_type": "markdown",
   "metadata": {},
   "source": [
    "#### THE\n",
    "比較THE學生人數, 師生比, 國際學生人數是否影響 rank"
   ]
  },
  {
   "cell_type": "code",
   "execution_count": 46,
   "metadata": {},
   "outputs": [],
   "source": [
    "X1 = the_2023['Total Students']\n",
    "X2 = the_2023['Total Students'] * the_2023['pc of int\\'l students']\n",
    "X3 = the_2023['student staff ratio']\n",
    "y = the_2023['rank']"
   ]
  },
  {
   "cell_type": "code",
   "execution_count": 48,
   "metadata": {},
   "outputs": [
    {
     "data": {
      "image/png": "[encoded data removed]",
      "text/plain": [
       "<Figure size 864x216 with 3 Axes>"
      ]
     },
     "metadata": {
      "needs_background": "light"
     },
     "output_type": "display_data"
    }
   ],
   "source": [
    "fig = plt.figure(figsize=(12, 3)) \n",
    "ax = fig.add_subplot(1, 3, 1)\n",
    "plt.plot(X1, y, 'o')\n",
    "ax = fig.add_subplot(1, 3, 2)\n",
    "plt.plot(X2, y, 'o')\n",
    "ax = fig.add_subplot(1, 3, 3)\n",
    "plt.plot(X3, y, 'o')\n",
    "plt.show()"
   ]
  },
  {
   "cell_type": "code",
   "execution_count": 49,
   "metadata": {},
   "outputs": [
    {
     "name": "stdout",
     "output_type": "stream",
     "text": [
      "R square score = 0.3\n",
      "第 [] 個變數不顯著\n"
     ]
    }
   ],
   "source": [
    "X = np.c_[X1, X2**0.5, np.log(X3)]\n",
    "\n",
    "reg = lm.fit(X, y)\n",
    "yhat = reg.predict(X)\n",
    "R2 = ((y - yhat)** 2).sum() / ((y - y.mean()) ** 2).sum()\n",
    "print('R square score =', round(1-R2, 2))\n",
    "\n",
    "se_b = [np.sqrt( ((y - yhat)**2).sum() / (len(y)-2) ) / np.sqrt( ((X[:,i] - X[:,i].mean())**2).sum() ) for i in range(X.shape[1])]\n",
    "\n",
    "not_sig = []\n",
    "for i in range(len(reg.coef_)):\n",
    "    if abs(reg.coef_[i] / se_b[i]) < stats.t.ppf(0.95, df = len(y)-2):\n",
    "        not_sig = not_sig + [i]\n",
    "print('第', not_sig, '個變數不顯著')"
   ]
  },
  {
   "cell_type": "code",
   "execution_count": 50,
   "metadata": {},
   "outputs": [
    {
     "data": {
      "text/plain": [
       "array([ 2.46336985e-03, -8.44098754e+00,  3.63892414e+01])"
      ]
     },
     "execution_count": 50,
     "metadata": {},
     "output_type": "execute_result"
    }
   ],
   "source": [
    "reg.coef_"
   ]
  },
  {
   "attachments": {},
   "cell_type": "markdown",
   "metadata": {},
   "source": [
    "由以上結果可知THE的資料本身就比較分散，且排名大於200以上的資料就由區間代替。\n",
    "因此較無法看出資料和排名的關係，即使做了特徵轉換，關係仍不明顯。"
   ]
  },
  {
   "attachments": {},
   "cell_type": "markdown",
   "metadata": {},
   "source": [
    "由上述的分析結果可以知道\n",
    "- QS的資料較能解釋排名的變異  "
   ]
  },
  {
   "attachments": {},
   "cell_type": "markdown",
   "metadata": {},
   "source": [
    "近年來, 兩個機構間學生人數對排名的影響的差異以減少, 不論是THE還是QS的資料皆顯示學生人數越多平均下來排名也會越後,因此為了不同排名機構而報不同學生人數的現象也會因此減少"
   ]
  },
  {
   "attachments": {},
   "cell_type": "markdown",
   "metadata": {},
   "source": [
    "#### 合併QS, THE  "
   ]
  },
  {
   "cell_type": "code",
   "execution_count": 51,
   "metadata": {},
   "outputs": [],
   "source": [
    "merge_table = pd.merge(the_2023, qs_2023, how = 'outer', on = 'University')"
   ]
  },
  {
   "cell_type": "code",
   "execution_count": 54,
   "metadata": {},
   "outputs": [
    {
     "name": "stdout",
     "output_type": "stream",
     "text": [
      "QS的學校,但和THE對不起來共有 623 所\n"
     ]
    }
   ],
   "source": [
    "print('QS的學校,但和THE對不起來共有', len(merge_table[merge_table['rank_x'].isna()]['University']), '所')"
   ]
  },
  {
   "cell_type": "code",
   "execution_count": 55,
   "metadata": {},
   "outputs": [
    {
     "name": "stdout",
     "output_type": "stream",
     "text": [
      "THE的學校,但和THE對不起來共有 698 所\n"
     ]
    }
   ],
   "source": [
    "print('THE的學校,但和THE對不起來共有', len(merge_table[merge_table['rank_y'].isna()]['University']), '所')"
   ]
  },
  {
   "attachments": {},
   "cell_type": "markdown",
   "metadata": {},
   "source": [
    "合併資料，觀察兩個排名的各資料差異大小"
   ]
  },
  {
   "cell_type": "code",
   "execution_count": 56,
   "metadata": {},
   "outputs": [],
   "source": [
    "merge_inner = pd.merge(the_2023, qs_2023, how = 'inner', on = 'University')"
   ]
  },
  {
   "cell_type": "code",
   "execution_count": 62,
   "metadata": {},
   "outputs": [],
   "source": [
    "merge_inner = merge_inner.rename(columns={'rank_x':'rank_the', 'rank_y':'rank_qs', \\\n",
    "                                          'Total Students':'students_the', 'Total students':'students_qs'})"
   ]
  },
  {
   "cell_type": "code",
   "execution_count": 97,
   "metadata": {},
   "outputs": [
    {
     "name": "stdout",
     "output_type": "stream",
     "text": [
      "CL upper limit: 1517.049575393719\n",
      "CL lower limit: 49.757555886670275\n"
     ]
    }
   ],
   "source": [
    "diff = merge_inner['students_the']-merge_inner['students_qs']\n",
    "\n",
    "mean_diff = diff.mean()\n",
    "std_diff = diff.std()\n",
    "ste_diff = std_diff/(merge_inner.shape[0]**0.5)\n",
    "\n",
    "print('CL upper limit:', mean_diff + stats.norm.ppf(0.975)*ste_diff)\n",
    "print('CL lower limit:', mean_diff - stats.norm.ppf(0.975)*ste_diff)"
   ]
  },
  {
   "attachments": {},
   "cell_type": "markdown",
   "metadata": {},
   "source": [
    "計算兩個排名的學生人數差異，發現差異的信賴區間不包含0，代表同間學校在兩個排名的人數資料是有差異的，而且THE比QS來的多。"
   ]
  },
  {
   "cell_type": "code",
   "execution_count": 94,
   "metadata": {},
   "outputs": [
    {
     "name": "stdout",
     "output_type": "stream",
     "text": [
      "CL upper limit: 5.0127330349155805\n",
      "CL lower limit: 3.894580429754896\n"
     ]
    }
   ],
   "source": [
    "the_ratio = merge_inner['student staff ratio']\n",
    "qs_ratio = merge_inner['students_qs']/merge_inner['Total faculty staff']\n",
    "\n",
    "diff_ratio = the_ratio-qs_ratio\n",
    "mean_diff_ratio = diff_ratio.mean()\n",
    "std_diff_ratio = diff_ratio.std()\n",
    "ste_diff_ratio = std_diff_ratio/(merge_inner.shape[0]**0.5)\n",
    "\n",
    "print('CL upper limit:', mean_diff_ratio + stats.norm.ppf(0.975)*ste_diff_ratio)\n",
    "print('CL lower limit:', mean_diff_ratio - stats.norm.ppf(0.975)*ste_diff_ratio)"
   ]
  },
  {
   "attachments": {},
   "cell_type": "markdown",
   "metadata": {},
   "source": [
    "計算兩個排名的師生比差異，發現差異的信賴區間不包含0，代表同間學校在兩個排名的師生比是有差異的，而且THE比QS來的大。"
   ]
  },
  {
   "cell_type": "code",
   "execution_count": 96,
   "metadata": {},
   "outputs": [
    {
     "name": "stdout",
     "output_type": "stream",
     "text": [
      "CL upper limit: 0.001541406168654869\n",
      "CL lower limit: -0.006743861904713992\n"
     ]
    }
   ],
   "source": [
    "the_intl = merge_inner['pc of int\\'l students']\n",
    "qs_intl = merge_inner['International students']/merge_inner['students_qs']\n",
    "\n",
    "diff_intl = the_intl-qs_intl\n",
    "mean_diff_intl = diff_intl.mean()\n",
    "std_diff_intl = diff_intl.std()\n",
    "ste_diff_intl = std_diff_intl/(merge_inner.shape[0]**0.5)\n",
    "\n",
    "print('CL upper limit:', mean_diff_intl + stats.norm.ppf(0.975)*ste_diff_intl)\n",
    "print('CL lower limit:', mean_diff_intl - stats.norm.ppf(0.975)*ste_diff_intl)"
   ]
  },
  {
   "attachments": {},
   "cell_type": "markdown",
   "metadata": {},
   "source": [
    "計算兩個排名的國際學生比例差異，發現差異的信賴區間包含0，代表同間學校在兩個排名的國際學生比例是沒有差異的。"
   ]
  },
  {
   "cell_type": "code",
   "execution_count": null,
   "metadata": {},
   "outputs": [],
   "source": []
  }
 ],
 "metadata": {
  "kernelspec": {
   "display_name": "tensorflow",
   "language": "python",
   "name": "python3"
  },
  "language_info": {
   "codemirror_mode": {
    "name": "ipython",
    "version": 3
   },
   "file_extension": ".py",
   "mimetype": "text/x-python",
   "name": "python",
   "nbconvert_exporter": "python",
   "pygments_lexer": "ipython3",
   "version": "3.9.12"
  },
  "orig_nbformat": 4,
  "vscode": {
   "interpreter": {
    "hash": "91c9659ac2f1581738eab8b8fe885b211314b5a33fdc0e566a03c4cdc3e2fc69"
   }
  }
 },
 "nbformat": 4,
 "nbformat_minor": 2
}
