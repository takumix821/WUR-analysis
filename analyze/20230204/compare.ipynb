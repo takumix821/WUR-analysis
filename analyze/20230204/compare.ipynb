{
 "cells": [
  {
   "attachments": {},
   "cell_type": "markdown",
   "metadata": {},
   "source": [
    "在過去曾經觀察到不同機構對學生人數多寡影響排名的趨勢不同的現象，因此本專案要將近兩年THE和QS兩個排名機構的公布資料加以比較，判斷該現象是否仍然存在，並找出可能影響排名的因素。"
   ]
  },
  {
   "cell_type": "code",
   "execution_count": 347,
   "metadata": {},
   "outputs": [],
   "source": [
    "import pandas as pd\n",
    "import numpy as np\n",
    "from sklearn.linear_model import LinearRegression\n",
    "from scipy import stats\n",
    "import matplotlib.pyplot as plt"
   ]
  },
  {
   "cell_type": "code",
   "execution_count": 348,
   "metadata": {},
   "outputs": [],
   "source": [
    "# read data\n",
    "qs_2022 = pd.read_csv('../../QS/qs_2022_refine.csv')\n",
    "qs_2023 = pd.read_csv('../../QS/qs_2023_refine.csv')\n",
    "the_2022 = pd.read_csv('../../THE/the_2022_refine.csv')\n",
    "the_2023 = pd.read_csv('../../THE/the_2023_refine.csv')"
   ]
  },
  {
   "attachments": {},
   "cell_type": "markdown",
   "metadata": {},
   "source": [
    "觀察離群值"
   ]
  },
  {
   "cell_type": "code",
   "execution_count": 349,
   "metadata": {},
   "outputs": [],
   "source": [
    "mean_xlqs_2022 = qs_2022[qs_2022['Size'] == 'XL']['Total students'].mean()\n",
    "std_xlqs_2022 = qs_2022[qs_2022['Size'] == 'XL']['Total students'].std()\n",
    "outlier_schools = qs_2022[qs_2022['Size'] == 'XL'][(qs_2022[qs_2022['Size'] == 'XL']['Total students'] - mean_xlqs_2022) / std_xlqs_2022 > 3].loc[:, 'University'].tolist()\n",
    "min_outlier_schools = qs_2022[qs_2022['Size'] == 'XL'][(qs_2022[qs_2022['Size'] == 'XL']['Total students'] - mean_xlqs_2022) / std_xlqs_2022 > 3].loc[:, 'Total students'].min()"
   ]
  },
  {
   "cell_type": "code",
   "execution_count": 350,
   "metadata": {},
   "outputs": [
    {
     "data": {
      "text/html": [
       "<div>\n",
       "<style scoped>\n",
       "    .dataframe tbody tr th:only-of-type {\n",
       "        vertical-align: middle;\n",
       "    }\n",
       "\n",
       "    .dataframe tbody tr th {\n",
       "        vertical-align: top;\n",
       "    }\n",
       "\n",
       "    .dataframe thead th {\n",
       "        text-align: right;\n",
       "    }\n",
       "</style>\n",
       "<table border=\"1\" class=\"dataframe\">\n",
       "  <thead>\n",
       "    <tr style=\"text-align: right;\">\n",
       "      <th></th>\n",
       "      <th>University</th>\n",
       "      <th>Total students</th>\n",
       "    </tr>\n",
       "  </thead>\n",
       "  <tbody>\n",
       "    <tr>\n",
       "      <th>105</th>\n",
       "      <td>Universidad Nacional Autonoma de Mexico</td>\n",
       "      <td>151316</td>\n",
       "    </tr>\n",
       "    <tr>\n",
       "      <th>560</th>\n",
       "      <td>Cairo University</td>\n",
       "      <td>192930</td>\n",
       "    </tr>\n",
       "    <tr>\n",
       "      <th>781</th>\n",
       "      <td>Ain Shams University</td>\n",
       "      <td>155929</td>\n",
       "    </tr>\n",
       "    <tr>\n",
       "      <th>966</th>\n",
       "      <td>Al-Azhar University</td>\n",
       "      <td>299054</td>\n",
       "    </tr>\n",
       "    <tr>\n",
       "      <th>967</th>\n",
       "      <td>Alexandria University</td>\n",
       "      <td>186865</td>\n",
       "    </tr>\n",
       "    <tr>\n",
       "      <th>1149</th>\n",
       "      <td>Damascus University</td>\n",
       "      <td>175080</td>\n",
       "    </tr>\n",
       "    <tr>\n",
       "      <th>1159</th>\n",
       "      <td>Mansoura University</td>\n",
       "      <td>179473</td>\n",
       "    </tr>\n",
       "    <tr>\n",
       "      <th>1226</th>\n",
       "      <td>Zagazig University</td>\n",
       "      <td>154303</td>\n",
       "    </tr>\n",
       "  </tbody>\n",
       "</table>\n",
       "</div>"
      ],
      "text/plain": [
       "                                   University  Total students\n",
       "105   Universidad Nacional Autonoma de Mexico          151316\n",
       "560                          Cairo University          192930\n",
       "781                      Ain Shams University          155929\n",
       "966                       Al-Azhar University          299054\n",
       "967                     Alexandria University          186865\n",
       "1149                      Damascus University          175080\n",
       "1159                      Mansoura University          179473\n",
       "1226                       Zagazig University          154303"
      ]
     },
     "execution_count": 350,
     "metadata": {},
     "output_type": "execute_result"
    }
   ],
   "source": [
    "qs_2022[qs_2022['Size'] == 'XL'][(qs_2022[qs_2022['Size'] == 'XL']['Total students'] - mean_xlqs_2022) / std_xlqs_2022 > 3].loc[:, ['University', 'Total students']]"
   ]
  },
  {
   "cell_type": "code",
   "execution_count": 351,
   "metadata": {},
   "outputs": [
    {
     "data": {
      "text/html": [
       "<div>\n",
       "<style scoped>\n",
       "    .dataframe tbody tr th:only-of-type {\n",
       "        vertical-align: middle;\n",
       "    }\n",
       "\n",
       "    .dataframe tbody tr th {\n",
       "        vertical-align: top;\n",
       "    }\n",
       "\n",
       "    .dataframe thead th {\n",
       "        text-align: right;\n",
       "    }\n",
       "</style>\n",
       "<table border=\"1\" class=\"dataframe\">\n",
       "  <thead>\n",
       "    <tr style=\"text-align: right;\">\n",
       "      <th></th>\n",
       "      <th>University</th>\n",
       "      <th>Total students</th>\n",
       "      <th>PG rate</th>\n",
       "      <th>UG rate</th>\n",
       "      <th>International students</th>\n",
       "      <th>Int'l PG rate</th>\n",
       "      <th>Int'l UG rate</th>\n",
       "      <th>Total faculty staff</th>\n",
       "      <th>Int'l staff rate</th>\n",
       "      <th>Domestic staff rate</th>\n",
       "      <th>rank</th>\n",
       "    </tr>\n",
       "  </thead>\n",
       "  <tbody>\n",
       "    <tr>\n",
       "      <th>767</th>\n",
       "      <td>Ain Shams University in Cairo</td>\n",
       "      <td>155929</td>\n",
       "      <td>0.86</td>\n",
       "      <td>0.14</td>\n",
       "      <td>9128</td>\n",
       "      <td>0.79</td>\n",
       "      <td>0.21</td>\n",
       "      <td>10912</td>\n",
       "      <td>0.87</td>\n",
       "      <td>0.13</td>\n",
       "      <td>900</td>\n",
       "    </tr>\n",
       "  </tbody>\n",
       "</table>\n",
       "</div>"
      ],
      "text/plain": [
       "                        University  Total students  PG rate  UG rate  \\\n",
       "767  Ain Shams University in Cairo          155929     0.86     0.14   \n",
       "\n",
       "     International students  Int'l PG rate  Int'l UG rate  \\\n",
       "767                    9128           0.79           0.21   \n",
       "\n",
       "     Total faculty staff  Int'l staff rate  Domestic staff rate  rank  \n",
       "767                10912              0.87                 0.13   900  "
      ]
     },
     "execution_count": 351,
     "metadata": {},
     "output_type": "execute_result"
    }
   ],
   "source": [
    "qs_2023[(qs_2023['Total students'] > min_outlier_schools) & [school not in outlier_schools for school in qs_2023['University']]]"
   ]
  },
  {
   "cell_type": "code",
   "execution_count": 352,
   "metadata": {},
   "outputs": [
    {
     "data": {
      "text/html": [
       "<div>\n",
       "<style scoped>\n",
       "    .dataframe tbody tr th:only-of-type {\n",
       "        vertical-align: middle;\n",
       "    }\n",
       "\n",
       "    .dataframe tbody tr th {\n",
       "        vertical-align: top;\n",
       "    }\n",
       "\n",
       "    .dataframe thead th {\n",
       "        text-align: right;\n",
       "    }\n",
       "</style>\n",
       "<table border=\"1\" class=\"dataframe\">\n",
       "  <thead>\n",
       "    <tr style=\"text-align: right;\">\n",
       "      <th></th>\n",
       "      <th>University</th>\n",
       "      <th>Total Students</th>\n",
       "    </tr>\n",
       "  </thead>\n",
       "  <tbody>\n",
       "    <tr>\n",
       "      <th>519</th>\n",
       "      <td>Mansoura University</td>\n",
       "      <td>154957</td>\n",
       "    </tr>\n",
       "    <tr>\n",
       "      <th>583</th>\n",
       "      <td>Cairo University</td>\n",
       "      <td>231150</td>\n",
       "    </tr>\n",
       "    <tr>\n",
       "      <th>799</th>\n",
       "      <td>University of Dhaka</td>\n",
       "      <td>207118</td>\n",
       "    </tr>\n",
       "    <tr>\n",
       "      <th>864</th>\n",
       "      <td>National Autonomous University of Mexico</td>\n",
       "      <td>167254</td>\n",
       "    </tr>\n",
       "    <tr>\n",
       "      <th>911</th>\n",
       "      <td>University of South Africa</td>\n",
       "      <td>193543</td>\n",
       "    </tr>\n",
       "    <tr>\n",
       "      <th>928</th>\n",
       "      <td>Tribhuvan University</td>\n",
       "      <td>428485</td>\n",
       "    </tr>\n",
       "    <tr>\n",
       "      <th>948</th>\n",
       "      <td>Ain Shams University</td>\n",
       "      <td>201733</td>\n",
       "    </tr>\n",
       "    <tr>\n",
       "      <th>949</th>\n",
       "      <td>Al-Azhar University</td>\n",
       "      <td>376303</td>\n",
       "    </tr>\n",
       "    <tr>\n",
       "      <th>950</th>\n",
       "      <td>Alexandria University</td>\n",
       "      <td>188711</td>\n",
       "    </tr>\n",
       "  </tbody>\n",
       "</table>\n",
       "</div>"
      ],
      "text/plain": [
       "                                   University  Total Students\n",
       "519                       Mansoura University          154957\n",
       "583                          Cairo University          231150\n",
       "799                       University of Dhaka          207118\n",
       "864  National Autonomous University of Mexico          167254\n",
       "911                University of South Africa          193543\n",
       "928                      Tribhuvan University          428485\n",
       "948                      Ain Shams University          201733\n",
       "949                       Al-Azhar University          376303\n",
       "950                     Alexandria University          188711"
      ]
     },
     "execution_count": 352,
     "metadata": {},
     "output_type": "execute_result"
    }
   ],
   "source": [
    "the_2022[the_2022['Total Students'] > min_outlier_schools].loc[:, ['University', 'Total Students']]"
   ]
  },
  {
   "cell_type": "code",
   "execution_count": 353,
   "metadata": {},
   "outputs": [
    {
     "data": {
      "text/html": [
       "<div>\n",
       "<style scoped>\n",
       "    .dataframe tbody tr th:only-of-type {\n",
       "        vertical-align: middle;\n",
       "    }\n",
       "\n",
       "    .dataframe tbody tr th {\n",
       "        vertical-align: top;\n",
       "    }\n",
       "\n",
       "    .dataframe thead th {\n",
       "        text-align: right;\n",
       "    }\n",
       "</style>\n",
       "<table border=\"1\" class=\"dataframe\">\n",
       "  <thead>\n",
       "    <tr style=\"text-align: right;\">\n",
       "      <th></th>\n",
       "      <th>University</th>\n",
       "      <th>Total Students</th>\n",
       "    </tr>\n",
       "  </thead>\n",
       "  <tbody>\n",
       "    <tr>\n",
       "      <th>594</th>\n",
       "      <td>University of Dhaka</td>\n",
       "      <td>211424</td>\n",
       "    </tr>\n",
       "    <tr>\n",
       "      <th>660</th>\n",
       "      <td>Mansoura University</td>\n",
       "      <td>161977</td>\n",
       "    </tr>\n",
       "    <tr>\n",
       "      <th>749</th>\n",
       "      <td>Al-Azhar University</td>\n",
       "      <td>425977</td>\n",
       "    </tr>\n",
       "    <tr>\n",
       "      <th>752</th>\n",
       "      <td>Alexandria University</td>\n",
       "      <td>202206</td>\n",
       "    </tr>\n",
       "    <tr>\n",
       "      <th>773</th>\n",
       "      <td>Cairo University</td>\n",
       "      <td>224216</td>\n",
       "    </tr>\n",
       "    <tr>\n",
       "      <th>916</th>\n",
       "      <td>Tribhuvan University</td>\n",
       "      <td>460632</td>\n",
       "    </tr>\n",
       "    <tr>\n",
       "      <th>928</th>\n",
       "      <td>Zagazig University</td>\n",
       "      <td>165556</td>\n",
       "    </tr>\n",
       "    <tr>\n",
       "      <th>1043</th>\n",
       "      <td>National Autonomous University of Mexico</td>\n",
       "      <td>172729</td>\n",
       "    </tr>\n",
       "    <tr>\n",
       "      <th>1088</th>\n",
       "      <td>University of South Africa</td>\n",
       "      <td>236282</td>\n",
       "    </tr>\n",
       "  </tbody>\n",
       "</table>\n",
       "</div>"
      ],
      "text/plain": [
       "                                    University  Total Students\n",
       "594                        University of Dhaka          211424\n",
       "660                        Mansoura University          161977\n",
       "749                        Al-Azhar University          425977\n",
       "752                      Alexandria University          202206\n",
       "773                           Cairo University          224216\n",
       "916                       Tribhuvan University          460632\n",
       "928                         Zagazig University          165556\n",
       "1043  National Autonomous University of Mexico          172729\n",
       "1088                University of South Africa          236282"
      ]
     },
     "execution_count": 353,
     "metadata": {},
     "output_type": "execute_result"
    }
   ],
   "source": [
    "the_2023[the_2023['Total Students'] > min_outlier_schools].loc[:, ['University', 'Total Students']]"
   ]
  },
  {
   "attachments": {},
   "cell_type": "markdown",
   "metadata": {},
   "source": [
    "### QS:"
   ]
  },
  {
   "attachments": {},
   "cell_type": "markdown",
   "metadata": {},
   "source": [
    "- 比較QS學生人數, 師生比, 國際學生人數, Status, Research Output, Size 是否影響 rank\n",
    "\n",
    "定義變數"
   ]
  },
  {
   "cell_type": "code",
   "execution_count": 354,
   "metadata": {},
   "outputs": [],
   "source": [
    "X1 = qs_2022['Total students']\n",
    "X2 = qs_2022['International students']\n",
    "X3 = qs_2022['Total students'] / qs_2022['Total faculty staff']\n",
    "X4 = qs_2022['Status'].map({'Private': 0, 'Public': 1})\n",
    "X5 = qs_2022['Research Output'].map({'Very High': 3, 'High': 2, 'Medium': 1, 'Low': 0})\n",
    "X6 = qs_2022['Size'].map({'M': 0, 'L': 1, 'S': 2, 'XL': 3})\n",
    "y = qs_2022['rank']"
   ]
  },
  {
   "cell_type": "code",
   "execution_count": 355,
   "metadata": {},
   "outputs": [
    {
     "data": {
      "image/png": "[encoded data removed]",
      "text/plain": [
       "<Figure size 2016x288 with 6 Axes>"
      ]
     },
     "metadata": {
      "needs_background": "light"
     },
     "output_type": "display_data"
    }
   ],
   "source": [
    "fig = plt.figure(figsize=(28, 4)) \n",
    "ax = fig.add_subplot(1, 6, 1)\n",
    "plt.plot(X1, y, 'o')\n",
    "ax = fig.add_subplot(1, 6, 2)\n",
    "plt.plot(X2, y, 'o')\n",
    "ax = fig.add_subplot(1, 6, 3)\n",
    "plt.plot(X3, y, 'o')\n",
    "ax = fig.add_subplot(1, 6, 4)\n",
    "plt.plot(X4, y, 'o')\n",
    "ax = fig.add_subplot(1, 6, 5)\n",
    "plt.plot(X5, y, 'o')\n",
    "ax = fig.add_subplot(1, 6, 6)\n",
    "plt.plot(X6, y, 'o')\n",
    "plt.show()"
   ]
  },
  {
   "cell_type": "code",
   "execution_count": 356,
   "metadata": {},
   "outputs": [
    {
     "name": "stdout",
     "output_type": "stream",
     "text": [
      "R square score = 0.56\n",
      "第 [3] 個變數不顯著\n"
     ]
    }
   ],
   "source": [
    "X = np.c_[X1, X2, X3, X4, X5, X6]\n",
    "lm = LinearRegression()\n",
    "reg = lm.fit(X, y)\n",
    "yhat = reg.predict(X)\n",
    "R2 = ((y - yhat)** 2).sum() / ((y - y.mean()) ** 2).sum()\n",
    "print('R square score =', round(1-R2, 2))\n",
    "\n",
    "se_b = [np.sqrt( ((y - yhat)**2).sum() / (len(y)-2) ) / np.sqrt( ((X[:,i] - X[:,i].mean())**2).sum() ) for i in range(X.shape[1])]\n",
    "\n",
    "not_sig = []\n",
    "for i in range(len(reg.coef_)):\n",
    "    if abs(reg.coef_[i] / se_b[i]) < stats.t.ppf(0.95, df = len(y)-2):\n",
    "        not_sig = not_sig + [i]\n",
    "print('第', not_sig, '個變數不顯著')"
   ]
  },
  {
   "attachments": {},
   "cell_type": "markdown",
   "metadata": {},
   "source": [
    "由以上結果可知Status對排名影響不大，可以刪掉"
   ]
  },
  {
   "cell_type": "code",
   "execution_count": 357,
   "metadata": {},
   "outputs": [
    {
     "name": "stdout",
     "output_type": "stream",
     "text": [
      "R square score = 0.55\n",
      "第 [] 個變數不顯著\n"
     ]
    }
   ],
   "source": [
    "X = np.c_[X1, X2, X3, X5, X6]\n",
    "\n",
    "reg = lm.fit(X, y)\n",
    "yhat = reg.predict(X)\n",
    "R2 = ((y - yhat)** 2).sum() / ((y - y.mean()) ** 2).sum()\n",
    "print('R square score =', round(1-R2, 2))\n",
    "\n",
    "se_b = [np.sqrt( ((y - yhat)**2).sum() / (len(y)-2) ) / np.sqrt( ((X[:,i] - X[:,i].mean())**2).sum() ) for i in range(X.shape[1])]\n",
    "\n",
    "not_sig = []\n",
    "for i in range(len(reg.coef_)):\n",
    "    if abs(reg.coef_[i] / se_b[i]) < stats.t.ppf(0.95, df = len(y)-2):\n",
    "        not_sig = not_sig + [i]\n",
    "print('第', not_sig, '個變數不顯著')"
   ]
  },
  {
   "cell_type": "code",
   "execution_count": 358,
   "metadata": {},
   "outputs": [
    {
     "data": {
      "image/png": "[encoded data removed]",
      "text/plain": [
       "<Figure size 1800x288 with 5 Axes>"
      ]
     },
     "metadata": {
      "needs_background": "light"
     },
     "output_type": "display_data"
    }
   ],
   "source": [
    "fig = plt.figure(figsize=(25, 4)) \n",
    "ax = fig.add_subplot(1, 5, 1)\n",
    "plt.plot(X1, y, 'o')\n",
    "ax = fig.add_subplot(1, 5, 2)\n",
    "plt.plot(X2, y, 'o')\n",
    "ax = fig.add_subplot(1, 5, 3)\n",
    "plt.plot(X3, y, 'o')\n",
    "ax = fig.add_subplot(1, 5, 4)\n",
    "plt.plot(X5, y, 'o')\n",
    "ax = fig.add_subplot(1, 5, 5)\n",
    "plt.plot(X6, y, 'o')\n",
    "plt.show()"
   ]
  },
  {
   "attachments": {},
   "cell_type": "markdown",
   "metadata": {},
   "source": [
    "試著調整離群值較多的$x_2, x_3$"
   ]
  },
  {
   "cell_type": "code",
   "execution_count": 359,
   "metadata": {},
   "outputs": [
    {
     "name": "stdout",
     "output_type": "stream",
     "text": [
      "R square score = 0.63\n",
      "第 [] 個變數不顯著\n"
     ]
    }
   ],
   "source": [
    "X = np.c_[X1, X2**0.5, np.log(X3), X5, X6]\n",
    "y = qs_2022['rank']\n",
    "reg = lm.fit(X, y)\n",
    "yhat = reg.predict(X)\n",
    "R2 = ((y - yhat)** 2).sum() / ((y - y.mean()) ** 2).sum()\n",
    "print('R square score =', round(1-R2, 2))\n",
    "\n",
    "se_b = [np.sqrt( ((y - yhat)**2).sum() / (len(y)-2) ) / np.sqrt( ((X[:,i] - X[:,i].mean())**2).sum() ) for i in range(X.shape[1])]\n",
    "\n",
    "not_sig = []\n",
    "for i in range(len(reg.coef_)):\n",
    "    if abs(reg.coef_[i] / se_b[i]) < stats.t.ppf(0.95, df = len(y)-2):\n",
    "        not_sig = not_sig + [i]\n",
    "print('第', not_sig, '個變數不顯著')"
   ]
  },
  {
   "cell_type": "code",
   "execution_count": 360,
   "metadata": {},
   "outputs": [
    {
     "data": {
      "text/plain": [
       "[0.002556628754570428,\n",
       " -6.1824398799238525,\n",
       " 356.0519494692765,\n",
       " -146.08902268212915,\n",
       " -39.608951427193134]"
      ]
     },
     "execution_count": 360,
     "metadata": {},
     "output_type": "execute_result"
    }
   ],
   "source": [
    "reg.coef_.tolist()"
   ]
  },
  {
   "cell_type": "code",
   "execution_count": 361,
   "metadata": {},
   "outputs": [
    {
     "data": {
      "image/png": "[encoded data removed]",
      "text/plain": [
       "<Figure size 1800x288 with 5 Axes>"
      ]
     },
     "metadata": {
      "needs_background": "light"
     },
     "output_type": "display_data"
    }
   ],
   "source": [
    "fig = plt.figure(figsize=(25, 4)) \n",
    "ax = fig.add_subplot(1, 5, 1)\n",
    "plt.plot(X1, y, 'o')\n",
    "ax = fig.add_subplot(1, 5, 2)\n",
    "plt.plot(X2**0.5, y, 'o')\n",
    "ax = fig.add_subplot(1, 5, 3)\n",
    "plt.plot(np.log(X3), y, 'o')\n",
    "ax = fig.add_subplot(1, 5, 4)\n",
    "plt.plot(X5, y, 'o')\n",
    "ax = fig.add_subplot(1, 5, 5)\n",
    "plt.plot(X6, y, 'o')\n",
    "plt.show()"
   ]
  },
  {
   "attachments": {},
   "cell_type": "markdown",
   "metadata": {},
   "source": [
    "最終模型寫為\n",
    "    $\\hat{y} = 0.003 x_1 -6.18 \\sqrt{x_2} + 356.05 \\log(x_3) - 146.10 x_5 -39.61 x_6$"
   ]
  },
  {
   "attachments": {},
   "cell_type": "markdown",
   "metadata": {},
   "source": [
    "合併QS當年與前一年的資料"
   ]
  },
  {
   "cell_type": "code",
   "execution_count": 362,
   "metadata": {},
   "outputs": [],
   "source": [
    "qs = pd.merge(qs_2023[['University', 'Total students', 'International students', 'Total faculty staff', 'Int\\'l staff rate', 'Domestic staff rate', 'rank']], \n",
    "qs_2022[['University', 'Total students', 'International students', 'Total faculty staff', 'Int\\'l staff rate', 'Domestic staff rate', 'Status', 'Research Output', 'Size', 'rank']], \n",
    "how = 'inner', on = 'University')"
   ]
  },
  {
   "cell_type": "code",
   "execution_count": 363,
   "metadata": {},
   "outputs": [],
   "source": [
    "qs = qs.rename(columns={'Total students_x':'Total students_2023',\n",
    "'International students_x':'International students_2023',\n",
    "'Total faculty staff_x':'Total faculty staff_2023',\n",
    "'Int\\'l staff rate_x':'Int\\'l staff rate_2023',\n",
    "'Domestic staff rate_x':'Domestic staff rate_2023',\n",
    "'rank_x':'rank_2023',\n",
    "'Total students_y':'Total students_2022',\n",
    "'International students_y':'International students_2022',\n",
    "'Total faculty staff_y':'Total faculty staff_2022',\n",
    "'Int\\'l staff rate_y':'Int\\'l staff rate_2022',\n",
    "'Domestic staff rate_y':'Domestic staff rate_2022',\n",
    "'rank_y':'rank_2022'})"
   ]
  },
  {
   "attachments": {},
   "cell_type": "markdown",
   "metadata": {},
   "source": [
    "- 比較QS學生人數增減, 師生比增減, 國際學生人數增減, Research Output, Size 是否影響 rank增減"
   ]
  },
  {
   "cell_type": "code",
   "execution_count": 364,
   "metadata": {},
   "outputs": [],
   "source": [
    "students_growth = (qs['Total students_2023']-qs['Total students_2022']) / [max(qs['Total students_2023'][i], qs['Total students_2022'][i]) for i in range(len(qs['Total students_2022']))]\n",
    "int_stud_growth = qs['International students_2023']/qs['Total students_2023'] - qs['International students_2022']/qs['Total students_2022']\n",
    "staff_rate_growth = qs['Total students_2023']/qs['Total faculty staff_2023'] - qs['Total students_2022']/qs['Total faculty staff_2022']\n",
    "rank_growth = qs['rank_2023'] - qs['rank_2022']\n",
    "\n",
    "qs_compare = pd.concat([qs, students_growth, int_stud_growth, staff_rate_growth, rank_growth], axis = 1)\n",
    "qs_compare = qs_compare.rename(columns = {0:'students_growth', 1:'int_stud_growth', 2:'staff_rate_growth', 3:'rank_growth'})"
   ]
  },
  {
   "cell_type": "code",
   "execution_count": 365,
   "metadata": {},
   "outputs": [],
   "source": [
    "qs_less500 = qs_compare[(qs_compare['rank_2022'] <= 500) | (qs_compare['rank_2023'] <= 500)]"
   ]
  },
  {
   "cell_type": "code",
   "execution_count": 366,
   "metadata": {},
   "outputs": [
    {
     "data": {
      "image/png": "[encoded data removed]",
      "text/plain": [
       "<Figure size 864x288 with 3 Axes>"
      ]
     },
     "metadata": {
      "needs_background": "light"
     },
     "output_type": "display_data"
    }
   ],
   "source": [
    "fig = plt.figure(figsize=(12, 4)) \n",
    "ax = fig.add_subplot(1, 3, 1)\n",
    "plt.plot(qs_less500['students_growth'], qs_less500['rank_growth'], 'o')\n",
    "ax = fig.add_subplot(1, 3, 2)\n",
    "plt.plot(qs_less500['int_stud_growth'], qs_less500['rank_growth'], 'o')\n",
    "ax = fig.add_subplot(1, 3, 3)\n",
    "plt.plot(qs_less500['staff_rate_growth'], qs_less500['rank_growth'], 'o')\n",
    "plt.show()"
   ]
  },
  {
   "attachments": {},
   "cell_type": "markdown",
   "metadata": {},
   "source": [
    "由繪圖結果可知，資料的年增和排名增減較無關。"
   ]
  },
  {
   "attachments": {},
   "cell_type": "markdown",
   "metadata": {},
   "source": [
    "- 比較QS學生人數增減, 師生比增減, 國際學生人數增減, Research Output, Size 是否影響 當年的rank"
   ]
  },
  {
   "cell_type": "code",
   "execution_count": 367,
   "metadata": {},
   "outputs": [
    {
     "data": {
      "image/png": "[encoded data removed]",
      "text/plain": [
       "<Figure size 864x288 with 3 Axes>"
      ]
     },
     "metadata": {
      "needs_background": "light"
     },
     "output_type": "display_data"
    }
   ],
   "source": [
    "fig = plt.figure(figsize=(12, 4)) \n",
    "ax = fig.add_subplot(1, 3, 1)\n",
    "plt.plot(qs_compare['students_growth'], qs_compare['rank_2023'], 'o')\n",
    "ax = fig.add_subplot(1, 3, 2)\n",
    "plt.plot(qs_compare['int_stud_growth'], qs_compare['rank_2023'], 'o')\n",
    "ax = fig.add_subplot(1, 3, 3)\n",
    "plt.plot(qs_compare['staff_rate_growth'], qs_compare['rank_2023'], 'o')\n",
    "plt.show()"
   ]
  },
  {
   "attachments": {},
   "cell_type": "markdown",
   "metadata": {},
   "source": [
    "由繪圖結果可知，資料的年增和排名也較無關。"
   ]
  },
  {
   "attachments": {},
   "cell_type": "markdown",
   "metadata": {},
   "source": [
    "### THE:"
   ]
  },
  {
   "attachments": {},
   "cell_type": "markdown",
   "metadata": {},
   "source": [
    "比較THE學生人數, 師生比, 國際學生人數是否影響 rank"
   ]
  },
  {
   "cell_type": "code",
   "execution_count": 368,
   "metadata": {},
   "outputs": [],
   "source": [
    "X1 = the_2022['Total Students']\n",
    "X2 = the_2022['Total Students'] * the_2022['pc of int\\'l students']\n",
    "X3 = the_2022['student staff ratio']\n",
    "y = the_2022['rank']"
   ]
  },
  {
   "cell_type": "code",
   "execution_count": 369,
   "metadata": {},
   "outputs": [
    {
     "data": {
      "image/png": "[encoded data removed]",
      "text/plain": [
       "<Figure size 1080x288 with 3 Axes>"
      ]
     },
     "metadata": {
      "needs_background": "light"
     },
     "output_type": "display_data"
    }
   ],
   "source": [
    "fig = plt.figure(figsize=(15, 4)) \n",
    "ax = fig.add_subplot(1, 3, 1)\n",
    "plt.plot(X1, y, 'o')\n",
    "ax = fig.add_subplot(1, 3, 2)\n",
    "plt.plot(X2, y, 'o')\n",
    "ax = fig.add_subplot(1, 3, 3)\n",
    "plt.plot(X3, y, 'o')\n",
    "plt.show()"
   ]
  },
  {
   "cell_type": "code",
   "execution_count": 370,
   "metadata": {},
   "outputs": [
    {
     "name": "stdout",
     "output_type": "stream",
     "text": [
      "R square score = 0.37\n",
      "第 [] 個變數不顯著\n"
     ]
    }
   ],
   "source": [
    "X = np.c_[X1, X2**0.5, np.log(X3)]\n",
    "\n",
    "reg = lm.fit(X, y)\n",
    "yhat = reg.predict(X)\n",
    "R2 = ((y - yhat)** 2).sum() / ((y - y.mean()) ** 2).sum()\n",
    "print('R square score =', round(1-R2, 2))\n",
    "\n",
    "se_b = [np.sqrt( ((y - yhat)**2).sum() / (len(y)-2) ) / np.sqrt( ((X[:,i] - X[:,i].mean())**2).sum() ) for i in range(X.shape[1])]\n",
    "\n",
    "not_sig = []\n",
    "for i in range(len(reg.coef_)):\n",
    "    if abs(reg.coef_[i] / se_b[i]) < stats.t.ppf(0.95, df = len(y)-2):\n",
    "        not_sig = not_sig + [i]\n",
    "print('第', not_sig, '個變數不顯著')"
   ]
  },
  {
   "cell_type": "code",
   "execution_count": 371,
   "metadata": {},
   "outputs": [
    {
     "data": {
      "text/plain": [
       "array([ 2.98849272e-03, -1.04711706e+01,  4.14774763e+01])"
      ]
     },
     "execution_count": 371,
     "metadata": {},
     "output_type": "execute_result"
    }
   ],
   "source": [
    "reg.coef_"
   ]
  },
  {
   "attachments": {},
   "cell_type": "markdown",
   "metadata": {},
   "source": [
    "由以上結果可知THE的資料本身就比較分散，且排名大於200以上的資料就由區間代替。\n",
    "因此較無法看出資料和排名的關係，即使做了特徵轉換，關係仍不明顯。"
   ]
  },
  {
   "attachments": {},
   "cell_type": "markdown",
   "metadata": {},
   "source": [
    "合併THE當年與前一年的資料"
   ]
  },
  {
   "cell_type": "code",
   "execution_count": 341,
   "metadata": {},
   "outputs": [],
   "source": [
    "the = pd.merge(the_2023[['rank', 'University', 'Total Students', 'student staff ratio', 'pc of int\\'l students']],\n",
    "the_2022[['rank', 'University', 'Total Students', 'student staff ratio', 'pc of int\\'l students']],\n",
    "how = 'inner', on = 'University')"
   ]
  },
  {
   "cell_type": "code",
   "execution_count": 342,
   "metadata": {},
   "outputs": [],
   "source": [
    "the = the.rename(columns={'rank_x':'rank_2023', 'Total Students_x':'Total Students_2023',\n",
    "'student staff ratio_x':'student staff ratio_2023',\n",
    "'pc of int\\'l students_x':'pc of int\\'l students_2023',\n",
    "'rank_y':'rank_2022', 'Total Students_y':'Total Students_2022',\n",
    "'student staff ratio_y':'student staff ratio_2022',\n",
    "'pc of int\\'l students_y':'pc of int\\'l students_2022'})"
   ]
  },
  {
   "attachments": {},
   "cell_type": "markdown",
   "metadata": {},
   "source": [
    "- 比較THE學生人數增減, 師生比增減, 國際學生人數增減, Research Output, Size 是否影響 rank"
   ]
  },
  {
   "cell_type": "code",
   "execution_count": 343,
   "metadata": {},
   "outputs": [],
   "source": [
    "students_growth = (the['Total Students_2023']-the['Total Students_2022']) / [max(the['Total Students_2023'][i], the['Total Students_2022'][i]) for i in range(len(the['Total Students_2022']))]\n",
    "int_stud_growth = the['pc of int\\'l students_2023'] - the['pc of int\\'l students_2022']\n",
    "staff_rate_growth = the['student staff ratio_2023'] - the['student staff ratio_2022']\n",
    "rank_growth = the['rank_2023'] - the['rank_2022']\n",
    "\n",
    "the_compare = pd.concat([the, students_growth, int_stud_growth, staff_rate_growth, rank_growth], axis = 1)\n",
    "the_compare = the_compare.rename(columns = {0:'students_growth', 1:'int_stud_growth', 2:'staff_rate_growth', 3:'rank_growth'})"
   ]
  },
  {
   "cell_type": "code",
   "execution_count": 344,
   "metadata": {},
   "outputs": [],
   "source": [
    "the_less200 = the_compare[(the_compare['rank_2022'] <= 200) | (the_compare['rank_2023'] <= 200)]"
   ]
  },
  {
   "cell_type": "code",
   "execution_count": 345,
   "metadata": {},
   "outputs": [
    {
     "data": {
      "image/png": "[encoded data removed]",
      "text/plain": [
       "<Figure size 864x288 with 3 Axes>"
      ]
     },
     "metadata": {
      "needs_background": "light"
     },
     "output_type": "display_data"
    }
   ],
   "source": [
    "fig = plt.figure(figsize=(12, 4)) \n",
    "ax = fig.add_subplot(1, 3, 1)\n",
    "plt.plot(the_less200['students_growth'], the_less200['rank_growth'], 'o')\n",
    "ax = fig.add_subplot(1, 3, 2)\n",
    "plt.plot(the_less200['int_stud_growth'], the_less200['rank_growth'], 'o')\n",
    "ax = fig.add_subplot(1, 3, 3)\n",
    "plt.plot(the_less200['staff_rate_growth'], the_less200['rank_growth'], 'o')\n",
    "plt.show()"
   ]
  },
  {
   "cell_type": "code",
   "execution_count": 346,
   "metadata": {},
   "outputs": [
    {
     "data": {
      "image/png": "[encoded data removed]",
      "text/plain": [
       "<Figure size 864x288 with 3 Axes>"
      ]
     },
     "metadata": {
      "needs_background": "light"
     },
     "output_type": "display_data"
    }
   ],
   "source": [
    "fig = plt.figure(figsize=(12, 4)) \n",
    "ax = fig.add_subplot(1, 3, 1)\n",
    "plt.plot(the_compare['students_growth'], the_compare['rank_2023'], 'o')\n",
    "ax = fig.add_subplot(1, 3, 2)\n",
    "plt.plot(the_compare['int_stud_growth'], the_compare['rank_2023'], 'o')\n",
    "ax = fig.add_subplot(1, 3, 3)\n",
    "plt.plot(the_compare['staff_rate_growth'], the_compare['rank_2023'], 'o')\n",
    "plt.show()"
   ]
  },
  {
   "attachments": {},
   "cell_type": "markdown",
   "metadata": {},
   "source": [
    "由上述的分析結果可以知道\n",
    "- QS的資料較能解釋排名的變異  \n",
    "\n",
    "在觀察QS的資料時我們發現  \n",
    "- 學生人數, 師生比, 國際學生人數, Research Output, Size 對排名影響較大"
   ]
  },
  {
   "attachments": {},
   "cell_type": "markdown",
   "metadata": {},
   "source": [
    "近年來, 兩個機構間學生人數對排名的影響的差異以減少, 不論是THE還是QS的資料皆顯示學生人數越多平均下來排名也會越後,因此為了不同排名機構而報不同學生人數的現象也會因此減少"
   ]
  },
  {
   "attachments": {},
   "cell_type": "markdown",
   "metadata": {},
   "source": [
    "### 合併QS, THE  \n",
    "找出差異人數的離群值"
   ]
  },
  {
   "cell_type": "code",
   "execution_count": 372,
   "metadata": {},
   "outputs": [],
   "source": [
    "merge_table = pd.merge(the, qs, how = 'outer', on = 'University')"
   ]
  },
  {
   "cell_type": "code",
   "execution_count": 373,
   "metadata": {},
   "outputs": [
    {
     "name": "stdout",
     "output_type": "stream",
     "text": [
      "QS的學校,但和THE對不起來共有 580 所\n"
     ]
    }
   ],
   "source": [
    "print('QS的學校,但和THE對不起來共有', len(merge_table[merge_table['rank_2023_x'].isna()]['University']), '所')"
   ]
  },
  {
   "cell_type": "code",
   "execution_count": 374,
   "metadata": {},
   "outputs": [
    {
     "name": "stdout",
     "output_type": "stream",
     "text": [
      "THE的學校,但和THE對不起來共有 620 所\n"
     ]
    }
   ],
   "source": [
    "print('THE的學校,但和THE對不起來共有', len(merge_table[merge_table['rank_2023_y'].isna()]['University']), '所')"
   ]
  },
  {
   "attachments": {},
   "cell_type": "markdown",
   "metadata": {},
   "source": [
    "合併資料，觀察可以對上的資料"
   ]
  },
  {
   "cell_type": "code",
   "execution_count": 375,
   "metadata": {},
   "outputs": [],
   "source": [
    "merge_inner = pd.merge(the, qs, how = 'inner', on = 'University')"
   ]
  },
  {
   "cell_type": "code",
   "execution_count": 376,
   "metadata": {},
   "outputs": [],
   "source": [
    "merge_inner = merge_inner.drop(['Status', 'Research Output', 'Size','Int\\'l staff rate_2023', 'Domestic staff rate_2023', 'Int\\'l staff rate_2022', 'Domestic staff rate_2022'], axis = 1)"
   ]
  },
  {
   "cell_type": "code",
   "execution_count": 377,
   "metadata": {},
   "outputs": [],
   "source": [
    "merge_inner = merge_inner.rename(columns={'rank_2023_x':'rank_2023_the', 'Total Students_2023':'Total students_2023_the',\n",
    "'student staff ratio_2023': 'student staff ratio_2023_the', 'pc of int\\'l students_2023':'pc of int\\'l students_2023_the',\n",
    "'rank_2022_x': 'rank_2022_the', 'Total Students_2022':'Total students_2022_the',\n",
    "'student staff ratio_2022': 'student staff ratio_2022_the', 'pc of int\\'l students_2022':'pc of int\\'l students_2022_the', \n",
    "'Total students_2023':'Total students_2023_qs', 'International students_2023':'International students_2023_qs',\n",
    "'Total faculty staff_2023':'Total faculty staff_2023_qs', 'rank_2023_y':'rank_2023_qs',\n",
    "'Total students_2022':'Total students_2022_qs', 'International students_2022':'International students_2022_qs',\n",
    "'Total faculty staff_2022':'Total faculty staff_2022_qs', 'rank_2022_y':'rank_2022_qs'})"
   ]
  },
  {
   "cell_type": "code",
   "execution_count": 379,
   "metadata": {},
   "outputs": [
    {
     "data": {
      "text/html": [
       "<div>\n",
       "<style scoped>\n",
       "    .dataframe tbody tr th:only-of-type {\n",
       "        vertical-align: middle;\n",
       "    }\n",
       "\n",
       "    .dataframe tbody tr th {\n",
       "        vertical-align: top;\n",
       "    }\n",
       "\n",
       "    .dataframe thead th {\n",
       "        text-align: right;\n",
       "    }\n",
       "</style>\n",
       "<table border=\"1\" class=\"dataframe\">\n",
       "  <thead>\n",
       "    <tr style=\"text-align: right;\">\n",
       "      <th></th>\n",
       "      <th>rank_2023_the</th>\n",
       "      <th>University</th>\n",
       "      <th>Total students_2023_the</th>\n",
       "      <th>student staff ratio_2023_the</th>\n",
       "      <th>pc of int'l students_2023_the</th>\n",
       "      <th>rank_2022_the</th>\n",
       "      <th>Total students_2022_the</th>\n",
       "      <th>student staff ratio_2022_the</th>\n",
       "      <th>pc of int'l students_2022_the</th>\n",
       "      <th>Total students_2023_qs</th>\n",
       "      <th>International students_2023_qs</th>\n",
       "      <th>Total faculty staff_2023_qs</th>\n",
       "      <th>rank_2023_qs</th>\n",
       "      <th>Total students_2022_qs</th>\n",
       "      <th>International students_2022_qs</th>\n",
       "      <th>Total faculty staff_2022_qs</th>\n",
       "      <th>rank_2022_qs</th>\n",
       "    </tr>\n",
       "  </thead>\n",
       "  <tbody>\n",
       "    <tr>\n",
       "      <th>0</th>\n",
       "      <td>1</td>\n",
       "      <td>University of Oxford</td>\n",
       "      <td>20967</td>\n",
       "      <td>10.6</td>\n",
       "      <td>0.42</td>\n",
       "      <td>1</td>\n",
       "      <td>20835</td>\n",
       "      <td>10.7</td>\n",
       "      <td>0.42</td>\n",
       "      <td>21972</td>\n",
       "      <td>9024</td>\n",
       "      <td>6650</td>\n",
       "      <td>4</td>\n",
       "      <td>20889</td>\n",
       "      <td>8442</td>\n",
       "      <td>6708</td>\n",
       "      <td>2</td>\n",
       "    </tr>\n",
       "    <tr>\n",
       "      <th>1</th>\n",
       "      <td>2</td>\n",
       "      <td>Harvard University</td>\n",
       "      <td>21887</td>\n",
       "      <td>9.6</td>\n",
       "      <td>0.25</td>\n",
       "      <td>2</td>\n",
       "      <td>21574</td>\n",
       "      <td>9.5</td>\n",
       "      <td>0.24</td>\n",
       "      <td>21877</td>\n",
       "      <td>5379</td>\n",
       "      <td>4480</td>\n",
       "      <td>5</td>\n",
       "      <td>23663</td>\n",
       "      <td>5877</td>\n",
       "      <td>4646</td>\n",
       "      <td>5</td>\n",
       "    </tr>\n",
       "    <tr>\n",
       "      <th>2</th>\n",
       "      <td>3</td>\n",
       "      <td>University of Cambridge</td>\n",
       "      <td>20185</td>\n",
       "      <td>11.3</td>\n",
       "      <td>0.39</td>\n",
       "      <td>5</td>\n",
       "      <td>19681</td>\n",
       "      <td>11.1</td>\n",
       "      <td>0.39</td>\n",
       "      <td>20871</td>\n",
       "      <td>7865</td>\n",
       "      <td>5735</td>\n",
       "      <td>2</td>\n",
       "      <td>20383</td>\n",
       "      <td>7925</td>\n",
       "      <td>5800</td>\n",
       "      <td>3</td>\n",
       "    </tr>\n",
       "    <tr>\n",
       "      <th>3</th>\n",
       "      <td>3</td>\n",
       "      <td>Stanford University</td>\n",
       "      <td>16164</td>\n",
       "      <td>7.1</td>\n",
       "      <td>0.24</td>\n",
       "      <td>4</td>\n",
       "      <td>16319</td>\n",
       "      <td>7.3</td>\n",
       "      <td>0.23</td>\n",
       "      <td>14518</td>\n",
       "      <td>3318</td>\n",
       "      <td>4694</td>\n",
       "      <td>3</td>\n",
       "      <td>16164</td>\n",
       "      <td>3879</td>\n",
       "      <td>4725</td>\n",
       "      <td>3</td>\n",
       "    </tr>\n",
       "    <tr>\n",
       "      <th>4</th>\n",
       "      <td>5</td>\n",
       "      <td>Massachusetts Institute of Technology</td>\n",
       "      <td>11415</td>\n",
       "      <td>8.2</td>\n",
       "      <td>0.33</td>\n",
       "      <td>5</td>\n",
       "      <td>11459</td>\n",
       "      <td>8.4</td>\n",
       "      <td>0.33</td>\n",
       "      <td>11035</td>\n",
       "      <td>3627</td>\n",
       "      <td>2919</td>\n",
       "      <td>1</td>\n",
       "      <td>11333</td>\n",
       "      <td>3730</td>\n",
       "      <td>3065</td>\n",
       "      <td>1</td>\n",
       "    </tr>\n",
       "  </tbody>\n",
       "</table>\n",
       "</div>"
      ],
      "text/plain": [
       "   rank_2023_the                             University  \\\n",
       "0              1                   University of Oxford   \n",
       "1              2                     Harvard University   \n",
       "2              3                University of Cambridge   \n",
       "3              3                    Stanford University   \n",
       "4              5  Massachusetts Institute of Technology   \n",
       "\n",
       "   Total students_2023_the  student staff ratio_2023_the  \\\n",
       "0                    20967                          10.6   \n",
       "1                    21887                           9.6   \n",
       "2                    20185                          11.3   \n",
       "3                    16164                           7.1   \n",
       "4                    11415                           8.2   \n",
       "\n",
       "   pc of int'l students_2023_the  rank_2022_the  Total students_2022_the  \\\n",
       "0                           0.42              1                    20835   \n",
       "1                           0.25              2                    21574   \n",
       "2                           0.39              5                    19681   \n",
       "3                           0.24              4                    16319   \n",
       "4                           0.33              5                    11459   \n",
       "\n",
       "   student staff ratio_2022_the  pc of int'l students_2022_the  \\\n",
       "0                          10.7                           0.42   \n",
       "1                           9.5                           0.24   \n",
       "2                          11.1                           0.39   \n",
       "3                           7.3                           0.23   \n",
       "4                           8.4                           0.33   \n",
       "\n",
       "   Total students_2023_qs  International students_2023_qs  \\\n",
       "0                   21972                            9024   \n",
       "1                   21877                            5379   \n",
       "2                   20871                            7865   \n",
       "3                   14518                            3318   \n",
       "4                   11035                            3627   \n",
       "\n",
       "   Total faculty staff_2023_qs  rank_2023_qs  Total students_2022_qs  \\\n",
       "0                         6650             4                   20889   \n",
       "1                         4480             5                   23663   \n",
       "2                         5735             2                   20383   \n",
       "3                         4694             3                   16164   \n",
       "4                         2919             1                   11333   \n",
       "\n",
       "   International students_2022_qs  Total faculty staff_2022_qs  rank_2022_qs  \n",
       "0                            8442                         6708             2  \n",
       "1                            5877                         4646             5  \n",
       "2                            7925                         5800             3  \n",
       "3                            3879                         4725             3  \n",
       "4                            3730                         3065             1  "
      ]
     },
     "execution_count": 379,
     "metadata": {},
     "output_type": "execute_result"
    }
   ],
   "source": [
    "merge_inner.head()"
   ]
  },
  {
   "attachments": {},
   "cell_type": "markdown",
   "metadata": {},
   "source": [
    "- 比較學生人數, 排名和人數差異的關係"
   ]
  },
  {
   "cell_type": "code",
   "execution_count": 381,
   "metadata": {},
   "outputs": [
    {
     "data": {
      "image/png": "[encoded data removed]",
      "text/plain": [
       "<Figure size 1296x288 with 4 Axes>"
      ]
     },
     "metadata": {
      "needs_background": "light"
     },
     "output_type": "display_data"
    }
   ],
   "source": [
    "fig = plt.figure(figsize=(18, 4)) \n",
    "ax = fig.add_subplot(1, 4, 1)\n",
    "plt.plot(merge_inner['Total students_2023_the'], merge_inner['Total students_2023_the'] - merge_inner['Total students_2023_qs'], 'o')\n",
    "ax = fig.add_subplot(1, 4, 2)\n",
    "plt.plot(merge_inner['Total students_2023_qs'], merge_inner['Total students_2023_the'] - merge_inner['Total students_2023_qs'], 'o')\n",
    "ax = fig.add_subplot(1, 4, 3)\n",
    "plt.plot(merge_inner['rank_2023_the'], merge_inner['Total students_2023_the'] - merge_inner['Total students_2023_qs'], 'o')\n",
    "ax = fig.add_subplot(1, 4, 4)\n",
    "plt.plot(merge_inner['rank_2023_qs'], merge_inner['Total students_2023_the'] - merge_inner['Total students_2023_qs'], 'o')\n",
    "plt.show()"
   ]
  },
  {
   "cell_type": "code",
   "execution_count": 382,
   "metadata": {},
   "outputs": [
    {
     "name": "stdout",
     "output_type": "stream",
     "text": [
      "共有 2 間大學2023年兩個機構的人數差距>100000\n",
      "['University of Dhaka', 'Al-Azhar University']\n"
     ]
    }
   ],
   "source": [
    "diff2023 = merge_inner[abs(merge_inner['Total students_2023_the'] - merge_inner['Total students_2023_qs']) > 100000]\n",
    "print('共有', diff2023.shape[0], '間大學2023年兩個機構的人數差距>100000')\n",
    "print(list(diff2023['University']))"
   ]
  },
  {
   "cell_type": "code",
   "execution_count": 383,
   "metadata": {},
   "outputs": [
    {
     "name": "stdout",
     "output_type": "stream",
     "text": [
      "共有 2 間大學2023年THE-QS人數>100000\n",
      "['University of Dhaka', 'Al-Azhar University']\n"
     ]
    }
   ],
   "source": [
    "the_more_than_qs_2023 = merge_inner[merge_inner['Total students_2023_the'] - merge_inner['Total students_2023_qs'] > 100000]\n",
    "print('共有', the_more_than_qs_2023.shape[0], '間大學2023年THE-QS人數>100000')\n",
    "print(list(the_more_than_qs_2023['University']))"
   ]
  },
  {
   "cell_type": "code",
   "execution_count": 384,
   "metadata": {},
   "outputs": [
    {
     "name": "stdout",
     "output_type": "stream",
     "text": [
      "共有 0 間大學2023年QS-THE人數>100000\n",
      "[]\n"
     ]
    }
   ],
   "source": [
    "qs_more_than_the_2023 = merge_inner[merge_inner['Total students_2023_the'] - merge_inner['Total students_2023_qs'] < -100000]\n",
    "print('共有', qs_more_than_the_2023.shape[0], '間大學2023年QS-THE人數>100000')\n",
    "print(list(qs_more_than_the_2023['University']))"
   ]
  },
  {
   "cell_type": "code",
   "execution_count": 385,
   "metadata": {},
   "outputs": [
    {
     "name": "stdout",
     "output_type": "stream",
     "text": [
      "共有 1 間大學2022年兩個機構的人數差距>100000\n",
      "['University of Dhaka']\n"
     ]
    }
   ],
   "source": [
    "diff2022 = merge_inner[abs(merge_inner['Total students_2022_the'] - merge_inner['Total students_2022_qs']) > 100000]\n",
    "print('共有', diff2022.shape[0], '間大學2022年兩個機構的人數差距>100000')\n",
    "print(list(diff2022['University']))"
   ]
  },
  {
   "cell_type": "code",
   "execution_count": 386,
   "metadata": {},
   "outputs": [
    {
     "name": "stdout",
     "output_type": "stream",
     "text": [
      "共有 1 間大學2022年THE-QS人數>100000\n",
      "['University of Dhaka']\n"
     ]
    }
   ],
   "source": [
    "the_more_than_qs_2022 = merge_inner[merge_inner['Total students_2022_the'] - merge_inner['Total students_2022_qs'] > 100000]\n",
    "print('共有', the_more_than_qs_2022.shape[0], '間大學2022年THE-QS人數>100000')\n",
    "print(list(the_more_than_qs_2022['University']))"
   ]
  },
  {
   "cell_type": "code",
   "execution_count": 387,
   "metadata": {},
   "outputs": [
    {
     "name": "stdout",
     "output_type": "stream",
     "text": [
      "共有 0 間大學2022年QS-THE人數>100000\n",
      "[]\n"
     ]
    }
   ],
   "source": [
    "qs_more_than_the_2022 = merge_inner[merge_inner['Total students_2022_the'] - merge_inner['Total students_2022_qs'] < -100000]\n",
    "print('共有', qs_more_than_the_2022.shape[0], '間大學2022年QS-THE人數>100000')\n",
    "print(list(qs_more_than_the_2022['University']))"
   ]
  },
  {
   "attachments": {},
   "cell_type": "markdown",
   "metadata": {},
   "source": [
    "University of Dhaka, Al-Azhar University這兩間大學是非常明顯的離群值，兩間學校的THE學生皆大於QS學生人數，且都是排名後面的學校。"
   ]
  }
 ],
 "metadata": {
  "kernelspec": {
   "display_name": "tensorflow",
   "language": "python",
   "name": "python3"
  },
  "language_info": {
   "codemirror_mode": {
    "name": "ipython",
    "version": 3
   },
   "file_extension": ".py",
   "mimetype": "text/x-python",
   "name": "python",
   "nbconvert_exporter": "python",
   "pygments_lexer": "ipython3",
   "version": "3.9.12"
  },
  "orig_nbformat": 4,
  "vscode": {
   "interpreter": {
    "hash": "91c9659ac2f1581738eab8b8fe885b211314b5a33fdc0e566a03c4cdc3e2fc69"
   }
  }
 },
 "nbformat": 4,
 "nbformat_minor": 2
}
