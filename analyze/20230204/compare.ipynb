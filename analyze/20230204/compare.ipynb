{
 "cells": [
  {
   "cell_type": "code",
   "execution_count": 278,
   "metadata": {},
   "outputs": [],
   "source": [
    "import pandas as pd\n",
    "import numpy as np\n",
    "from sklearn.linear_model import LinearRegression\n",
    "from scipy import stats\n",
    "import matplotlib.pyplot as plt"
   ]
  },
  {
   "cell_type": "code",
   "execution_count": 279,
   "metadata": {},
   "outputs": [],
   "source": [
    "qs_2022 = pd.read_csv('C:/Users/alion/OneDrive/文件/GitHub/WUR-analysis/QS/qs_2022_refine.csv')\n",
    "qs_2023 = pd.read_csv('C:/Users/alion/OneDrive/文件/GitHub/WUR-analysis/QS/qs_2023_refine.csv')\n",
    "the_2022 = pd.read_csv('C:/Users/alion/OneDrive/文件/GitHub/WUR-analysis/THE/the_2022_refine.csv')\n",
    "the_2023 = pd.read_csv('C:/Users/alion/OneDrive/文件/GitHub/WUR-analysis/THE/the_2023_refine.csv')"
   ]
  },
  {
   "attachments": {},
   "cell_type": "markdown",
   "metadata": {},
   "source": [
    "QS:"
   ]
  },
  {
   "attachments": {},
   "cell_type": "markdown",
   "metadata": {},
   "source": [
    "比較QS學生人數, 師生比, 國際學生人數, Status, Research Output, Size 是否影響 rank"
   ]
  },
  {
   "cell_type": "code",
   "execution_count": 280,
   "metadata": {},
   "outputs": [
    {
     "name": "stdout",
     "output_type": "stream",
     "text": [
      "R square score = 0.5551077325846112\n",
      "(array([3], dtype=int64),)\n"
     ]
    }
   ],
   "source": [
    "lm = LinearRegression()\n",
    "# 2022\n",
    "X1 = qs_2022['Total students']\n",
    "X2 = qs_2022['International students']\n",
    "X3 = qs_2022['Total students'] / qs_2022['Total faculty staff']\n",
    "X4 = qs_2022['Status'].map({'Private': 0, 'Public': 1})\n",
    "X5 = qs_2022['Research Output'].map({'Very High': 3, 'High': 2, 'Medium': 1, 'Low': 0})\n",
    "X6 = qs_2022['Size'].map({'M': 0, 'L': 1, 'S': 2, 'XL': 3})\n",
    "X = pd.concat([X1, X2, X3, X4, X5, X6], axis = 1)\n",
    "y = qs_2022['rank']\n",
    "reg = lm.fit(X, y)\n",
    "yhat = reg.predict(X)\n",
    "R2 = ((y - yhat)** 2).sum() / ((y - y.mean()) ** 2).sum()\n",
    "print('R square score =', 1-R2)\n",
    "\n",
    "se_b = [np.sqrt( ((y - yhat)**2).sum() / (len(y)-2) ) / np.sqrt( ((X.iloc[:,i] - X.iloc[:,i].mean())**2).sum() ) for i in range(X.shape[1])]\n",
    "print(np.where(abs(reg.coef_ / se_b) < stats.t.ppf(0.95, df = len(y)-2)))"
   ]
  },
  {
   "attachments": {},
   "cell_type": "markdown",
   "metadata": {},
   "source": [
    "由以上結果可知Status對排名影響不大，可以刪掉"
   ]
  },
  {
   "cell_type": "code",
   "execution_count": 281,
   "metadata": {},
   "outputs": [
    {
     "name": "stdout",
     "output_type": "stream",
     "text": [
      "R square score = 0.5548729780593005\n",
      "(array([], dtype=int64),)\n"
     ]
    }
   ],
   "source": [
    "X = pd.concat([X1, X2, X3, X5, X6], axis = 1)\n",
    "y = qs_2022['rank']\n",
    "reg = lm.fit(X, y)\n",
    "yhat = reg.predict(X)\n",
    "R2 = ((y - yhat)** 2).sum() / ((y - y.mean()) ** 2).sum()\n",
    "print('R square score =', 1-R2)\n",
    "\n",
    "se_b = [np.sqrt( ((y - yhat)**2).sum() / (len(y)-2) ) / np.sqrt( ((X.iloc[:,i] - X.iloc[:,i].mean())**2).sum() ) for i in range(X.shape[1])]\n",
    "print(np.where(abs(reg.coef_ / se_b) < stats.t.ppf(0.95, df = len(y)-2)))"
   ]
  },
  {
   "cell_type": "code",
   "execution_count": 282,
   "metadata": {},
   "outputs": [
    {
     "data": {
      "text/plain": [
       "array([ 2.39444798e-03, -4.44204133e-02,  2.23656805e+01, -1.75985578e+02,\n",
       "       -3.98072959e+01])"
      ]
     },
     "execution_count": 282,
     "metadata": {},
     "output_type": "execute_result"
    }
   ],
   "source": [
    "reg.coef_"
   ]
  },
  {
   "cell_type": "code",
   "execution_count": 289,
   "metadata": {},
   "outputs": [
    {
     "name": "stdout",
     "output_type": "stream",
     "text": [
      "R square score = 0.4285086914125026\n",
      "(array([], dtype=int64),)\n"
     ]
    }
   ],
   "source": [
    "# 2023\n",
    "X1 = qs_2023['Total students']\n",
    "X2 = qs_2023['International students']\n",
    "X3 = qs_2023['Total students'] / qs_2023['Total faculty staff']\n",
    "X = pd.concat([X1, X2, X3], axis = 1)\n",
    "y = qs_2023['rank']\n",
    "reg = lm.fit(X, y)\n",
    "yhat = reg.predict(X)\n",
    "R2 = ((y - yhat)** 2).sum() / ((y - y.mean()) ** 2).sum()\n",
    "print('R square score =', 1-R2)\n",
    "\n",
    "se_b = [np.sqrt( ((y - yhat)**2).sum() / (len(y)-2) ) / np.sqrt( ((X.iloc[:,i] - X.iloc[:,i].mean())**2).sum() ) for i in range(X.shape[1])]\n",
    "print(np.where(abs(reg.coef_ / se_b) < stats.t.ppf(0.95, df = len(y)-2)))"
   ]
  },
  {
   "cell_type": "code",
   "execution_count": 290,
   "metadata": {},
   "outputs": [
    {
     "data": {
      "text/plain": [
       "array([ 9.01684717e-04, -5.19852651e-02,  2.83543354e+01])"
      ]
     },
     "execution_count": 290,
     "metadata": {},
     "output_type": "execute_result"
    }
   ],
   "source": [
    "reg.coef_"
   ]
  },
  {
   "attachments": {},
   "cell_type": "markdown",
   "metadata": {},
   "source": [
    "合併QS當年與前一年的資料"
   ]
  },
  {
   "cell_type": "code",
   "execution_count": 225,
   "metadata": {},
   "outputs": [],
   "source": [
    "qs = pd.merge(qs_2023[['University', 'Total students', 'International students', 'Total faculty staff', 'Int\\'l staff rate', 'Domestic staff rate', 'rank']], \n",
    "qs_2022[['University', 'Total students', 'International students', 'Total faculty staff', 'Int\\'l staff rate', 'Domestic staff rate', 'Status', 'Research Output', 'Size', 'rank']], \n",
    "how = 'inner', on = 'University')"
   ]
  },
  {
   "cell_type": "code",
   "execution_count": 226,
   "metadata": {},
   "outputs": [],
   "source": [
    "qs = qs.rename(columns={'Total students_x':'Total students_2023',\n",
    "'International students_x':'International students_2023',\n",
    "'Total faculty staff_x':'Total faculty staff_2023',\n",
    "'Int\\'l staff rate_x':'Int\\'l staff rate_2023',\n",
    "'Domestic staff rate_x':'Domestic staff rate_2023',\n",
    "'rank_x':'rank_2023',\n",
    "'Total students_y':'Total students_2022',\n",
    "'International students_y':'International students_2022',\n",
    "'Total faculty staff_y':'Total faculty staff_2022',\n",
    "'Int\\'l staff rate_y':'Int\\'l staff rate_2022',\n",
    "'Domestic staff rate_y':'Domestic staff rate_2022',\n",
    "'rank_y':'rank_2022'})"
   ]
  },
  {
   "attachments": {},
   "cell_type": "markdown",
   "metadata": {},
   "source": [
    "比較QS學生人數增減, 師生比增減, 國際學生人數增減, Research Output, Size 是否影響 rank增減"
   ]
  },
  {
   "cell_type": "code",
   "execution_count": 227,
   "metadata": {},
   "outputs": [],
   "source": [
    "students_growth = (qs['Total students_2023']-qs['Total students_2022']) / [max(qs['Total students_2023'][i], qs['Total students_2022'][i]) for i in range(len(qs['Total students_2022']))]\n",
    "int_stud_growth = qs['International students_2023']/qs['Total students_2023'] - qs['International students_2022']/qs['Total students_2022']\n",
    "staff_rate_growth = qs['Total students_2023']/qs['Total faculty staff_2023'] - qs['Total students_2022']/qs['Total faculty staff_2022']\n",
    "rank_growth = qs['rank_2023'] - qs['rank_2022']\n",
    "\n",
    "qs_compare = pd.concat([qs, students_growth, int_stud_growth, staff_rate_growth, rank_growth], axis = 1)\n",
    "qs_compare = qs_compare.rename(columns = {0:'students_growth', 1:'int_stud_growth', 2:'staff_rate_growth', 3:'rank_growth'})"
   ]
  },
  {
   "cell_type": "code",
   "execution_count": 228,
   "metadata": {},
   "outputs": [],
   "source": [
    "qs_less500 = qs_compare[(qs_compare['rank_2022'] <= 500) | (qs_compare['rank_2023'] <= 500)]"
   ]
  },
  {
   "cell_type": "code",
   "execution_count": 229,
   "metadata": {},
   "outputs": [
    {
     "data": {
      "image/png": "[encoded data removed]",
      "text/plain": [
       "<Figure size 1296x288 with 4 Axes>"
      ]
     },
     "metadata": {
      "needs_background": "light"
     },
     "output_type": "display_data"
    }
   ],
   "source": [
    "fig = plt.figure(figsize=(18, 4)) \n",
    "ax = fig.add_subplot(1, 4, 1)\n",
    "plt.plot(qs_less500['students_growth'])\n",
    "ax = fig.add_subplot(1, 4, 2)\n",
    "plt.plot(qs_less500['int_stud_growth'])\n",
    "ax = fig.add_subplot(1, 4, 3)\n",
    "plt.plot(qs_less500['staff_rate_growth'])\n",
    "ax = fig.add_subplot(1, 4, 4)\n",
    "plt.plot(qs_less500['rank_growth'])\n",
    "plt.show()"
   ]
  },
  {
   "cell_type": "code",
   "execution_count": 291,
   "metadata": {},
   "outputs": [
    {
     "name": "stdout",
     "output_type": "stream",
     "text": [
      "R square score = 0.10923619718223798\n",
      "(array([2, 4], dtype=int64),)\n"
     ]
    }
   ],
   "source": [
    "X1 = qs_less500['students_growth']\n",
    "X2 = qs_less500['int_stud_growth']\n",
    "X3 = qs_less500['staff_rate_growth']\n",
    "X4 = qs_less500['Research Output'].map({'Very High': 3, 'High': 2, 'Medium': 1, 'Low': 0})\n",
    "X5 = qs_less500['Size'].map({'M': 0, 'L': 1, 'S': 2, 'XL': 3})\n",
    "X = pd.concat([X1, X2, X3, X4, X5], axis = 1)\n",
    "y = qs_less500['rank_growth']\n",
    "reg = lm.fit(X, y)\n",
    "yhat = reg.predict(X)\n",
    "R2 = ((y - yhat)** 2).sum() / ((y - y.mean()) ** 2).sum()\n",
    "print('R square score =', 1-R2)\n",
    "\n",
    "se_b = [np.sqrt( ((y - yhat)**2).sum() / (len(y)-2) ) / np.sqrt( ((X.iloc[:,i] - X.iloc[:,i].mean())**2).sum() ) for i in range(X.shape[1])]\n",
    "print(np.where(abs(reg.coef_ / se_b) < stats.t.ppf(0.95, df = len(y)-2)))"
   ]
  },
  {
   "cell_type": "code",
   "execution_count": 292,
   "metadata": {},
   "outputs": [
    {
     "name": "stdout",
     "output_type": "stream",
     "text": [
      "R square score = 0.10479151549287391\n",
      "(array([], dtype=int64),)\n"
     ]
    }
   ],
   "source": [
    "X = pd.concat([X1, X2, X4], axis = 1)\n",
    "y = qs_less500['rank_growth']\n",
    "reg = lm.fit(X, y)\n",
    "yhat = reg.predict(X)\n",
    "R2 = ((y - yhat)** 2).sum() / ((y - y.mean()) ** 2).sum()\n",
    "print('R square score =', 1-R2)\n",
    "\n",
    "se_b = [np.sqrt( ((y - yhat)**2).sum() / (len(y)-2) ) / np.sqrt( ((X.iloc[:,i] - X.iloc[:,i].mean())**2).sum() ) for i in range(X.shape[1])]\n",
    "print(np.where(abs(reg.coef_ / se_b) < stats.t.ppf(0.95, df = len(y)-2)))"
   ]
  },
  {
   "cell_type": "code",
   "execution_count": 293,
   "metadata": {},
   "outputs": [
    {
     "data": {
      "text/plain": [
       "array([  65.05297873, -171.74122871,   11.29555563])"
      ]
     },
     "execution_count": 293,
     "metadata": {},
     "output_type": "execute_result"
    }
   ],
   "source": [
    "reg.coef_"
   ]
  },
  {
   "attachments": {},
   "cell_type": "markdown",
   "metadata": {},
   "source": [
    "由以上結果可知在前500名內的資料中，staff_rate_growth, Size是對排名增減影響較小的資料，但模型並無法合理解釋排名增減的變異"
   ]
  },
  {
   "attachments": {},
   "cell_type": "markdown",
   "metadata": {},
   "source": [
    "THE:"
   ]
  },
  {
   "attachments": {},
   "cell_type": "markdown",
   "metadata": {},
   "source": [
    "比較THE學生人數, 師生比, 國際學生人數是否影響 rank"
   ]
  },
  {
   "cell_type": "code",
   "execution_count": 294,
   "metadata": {},
   "outputs": [
    {
     "name": "stdout",
     "output_type": "stream",
     "text": [
      "R square score = 0.25849529259774406\n",
      "(array([2], dtype=int64),)\n"
     ]
    }
   ],
   "source": [
    "# 2023\n",
    "X1 = the_2023['Total Students']\n",
    "X2 = the_2023['Total Students'] * the_2023['pc of int\\'l students']\n",
    "X3 = the_2023['student staff ratio']\n",
    "X = pd.concat([X1, X2, X3], axis = 1)\n",
    "y = the_2023['rank']\n",
    "reg = lm.fit(X, y)\n",
    "yhat = reg.predict(X)\n",
    "R2 = ((y - yhat)** 2).sum() / ((y - y.mean()) ** 2).sum()\n",
    "print('R square score =', 1-R2)\n",
    "\n",
    "se_b = [np.sqrt( ((y - yhat)**2).sum() / (len(y)-2) ) / np.sqrt( ((X.iloc[:,i] - X.iloc[:,i].mean())**2).sum() ) for i in range(X.shape[1])]\n",
    "print(np.where(abs(reg.coef_ / se_b) < stats.t.ppf(0.95, df = len(y)-2)))"
   ]
  },
  {
   "cell_type": "code",
   "execution_count": 284,
   "metadata": {},
   "outputs": [
    {
     "name": "stdout",
     "output_type": "stream",
     "text": [
      "R square score = 0.2583901008888583\n",
      "(array([], dtype=int64),)\n"
     ]
    }
   ],
   "source": [
    "X = pd.concat([X1, X2], axis = 1)\n",
    "y = the_2023['rank']\n",
    "reg = lm.fit(X, y)\n",
    "yhat = reg.predict(X)\n",
    "R2 = ((y - yhat)** 2).sum() / ((y - y.mean()) ** 2).sum()\n",
    "print('R square score =', 1-R2)\n",
    "\n",
    "se_b = [np.sqrt( ((y - yhat)**2).sum() / (len(y)-2) ) / np.sqrt( ((X.iloc[:,i] - X.iloc[:,i].mean())**2).sum() ) for i in range(X.shape[1])]\n",
    "print(np.where(abs(reg.coef_ / se_b) < stats.t.ppf(0.95, df = len(y)-2)))"
   ]
  },
  {
   "cell_type": "code",
   "execution_count": 285,
   "metadata": {},
   "outputs": [
    {
     "data": {
      "text/plain": [
       "array([ 0.00275555, -0.06989145])"
      ]
     },
     "execution_count": 285,
     "metadata": {},
     "output_type": "execute_result"
    }
   ],
   "source": [
    "reg.coef_"
   ]
  },
  {
   "cell_type": "code",
   "execution_count": 286,
   "metadata": {},
   "outputs": [
    {
     "name": "stdout",
     "output_type": "stream",
     "text": [
      "R square score = 0.3054845810657355\n",
      "(array([2], dtype=int64),)\n"
     ]
    }
   ],
   "source": [
    "# 2022\n",
    "X1 = the_2022['Total Students']\n",
    "X2 = the_2022['Total Students'] * the_2022['pc of int\\'l students']\n",
    "X3 = the_2022['student staff ratio']\n",
    "X = pd.concat([X1, X2, X3], axis = 1)\n",
    "y = the_2022['rank']\n",
    "reg = lm.fit(X, y)\n",
    "yhat = reg.predict(X)\n",
    "R2 = ((y - yhat)** 2).sum() / ((y - y.mean()) ** 2).sum()\n",
    "print('R square score =', 1-R2)\n",
    "\n",
    "se_b = [np.sqrt( ((y - yhat)**2).sum() / (len(y)-2) ) / np.sqrt( ((X.iloc[:,i] - X.iloc[:,i].mean())**2).sum() ) for i in range(X.shape[1])]\n",
    "print(np.where(abs(reg.coef_ / se_b) < stats.t.ppf(0.95, df = len(y)-2)))"
   ]
  },
  {
   "cell_type": "code",
   "execution_count": 287,
   "metadata": {},
   "outputs": [
    {
     "name": "stdout",
     "output_type": "stream",
     "text": [
      "R square score = 0.30545360379790865\n",
      "(array([], dtype=int64),)\n"
     ]
    }
   ],
   "source": [
    "X = pd.concat([X1, X2], axis = 1)\n",
    "y = the_2022['rank']\n",
    "reg = lm.fit(X, y)\n",
    "yhat = reg.predict(X)\n",
    "R2 = ((y - yhat)** 2).sum() / ((y - y.mean()) ** 2).sum()\n",
    "print('R square score =', 1-R2)\n",
    "\n",
    "se_b = [np.sqrt( ((y - yhat)**2).sum() / (len(y)-2) ) / np.sqrt( ((X.iloc[:,i] - X.iloc[:,i].mean())**2).sum() ) for i in range(X.shape[1])]\n",
    "print(np.where(abs(reg.coef_ / se_b) < stats.t.ppf(0.95, df = len(y)-2)))"
   ]
  },
  {
   "cell_type": "code",
   "execution_count": 288,
   "metadata": {},
   "outputs": [
    {
     "data": {
      "text/plain": [
       "array([ 0.00314014, -0.0877322 ])"
      ]
     },
     "execution_count": 288,
     "metadata": {},
     "output_type": "execute_result"
    }
   ],
   "source": [
    "reg.coef_"
   ]
  },
  {
   "attachments": {},
   "cell_type": "markdown",
   "metadata": {},
   "source": [
    "由以上結果可知師生比是對THE排名影響較小的資料，但即使刪去師生筆的資料模型仍無法合理解釋排名的變異"
   ]
  },
  {
   "attachments": {},
   "cell_type": "markdown",
   "metadata": {},
   "source": [
    "合併THE當年與前一年的資料"
   ]
  },
  {
   "cell_type": "code",
   "execution_count": 236,
   "metadata": {},
   "outputs": [],
   "source": [
    "the = pd.merge(the_2023[['rank', 'University', 'Total Students', 'student staff ratio', 'pc of int\\'l students']],\n",
    "the_2022[['rank', 'University', 'Total Students', 'student staff ratio', 'pc of int\\'l students']],\n",
    "how = 'inner', on = 'University')"
   ]
  },
  {
   "cell_type": "code",
   "execution_count": 237,
   "metadata": {},
   "outputs": [],
   "source": [
    "the = the.rename(columns={'rank_x':'rank_2023', 'Total Students_x':'Total Students_2023',\n",
    "'student staff ratio_x':'student staff ratio_2023',\n",
    "'pc of int\\'l students_x':'pc of int\\'l students_2023',\n",
    "'rank_y':'rank_2022', 'Total Students_y':'Total Students_2022',\n",
    "'student staff ratio_y':'student staff ratio_2022',\n",
    "'pc of int\\'l students_y':'pc of int\\'l students_2022'})"
   ]
  },
  {
   "cell_type": "code",
   "execution_count": 241,
   "metadata": {},
   "outputs": [],
   "source": [
    "students_growth = (the['Total Students_2023']-the['Total Students_2022']) / [max(the['Total Students_2023'][i], the['Total Students_2022'][i]) for i in range(len(the['Total Students_2022']))]\n",
    "int_stud_growth = the['pc of int\\'l students_2023'] - the['pc of int\\'l students_2022']\n",
    "staff_rate_growth = the['student staff ratio_2023'] - the['student staff ratio_2022']\n",
    "rank_growth = the['rank_2023'] - the['rank_2022']\n",
    "\n",
    "the_compare = pd.concat([the, students_growth, int_stud_growth, staff_rate_growth, rank_growth], axis = 1)\n",
    "the_compare = the_compare.rename(columns = {0:'students_growth', 1:'int_stud_growth', 2:'staff_rate_growth', 3:'rank_growth'})"
   ]
  },
  {
   "cell_type": "code",
   "execution_count": 242,
   "metadata": {},
   "outputs": [
    {
     "data": {
      "text/html": [
       "<div>\n",
       "<style scoped>\n",
       "    .dataframe tbody tr th:only-of-type {\n",
       "        vertical-align: middle;\n",
       "    }\n",
       "\n",
       "    .dataframe tbody tr th {\n",
       "        vertical-align: top;\n",
       "    }\n",
       "\n",
       "    .dataframe thead th {\n",
       "        text-align: right;\n",
       "    }\n",
       "</style>\n",
       "<table border=\"1\" class=\"dataframe\">\n",
       "  <thead>\n",
       "    <tr style=\"text-align: right;\">\n",
       "      <th></th>\n",
       "      <th>rank_2023</th>\n",
       "      <th>University</th>\n",
       "      <th>Total Students_2023</th>\n",
       "      <th>student staff ratio_2023</th>\n",
       "      <th>pc of int'l students_2023</th>\n",
       "      <th>rank_2022</th>\n",
       "      <th>Total Students_2022</th>\n",
       "      <th>student staff ratio_2022</th>\n",
       "      <th>pc of int'l students_2022</th>\n",
       "      <th>students_growth</th>\n",
       "      <th>int_stud_growth</th>\n",
       "      <th>staff_rate_growth</th>\n",
       "      <th>rank_growth</th>\n",
       "    </tr>\n",
       "  </thead>\n",
       "  <tbody>\n",
       "    <tr>\n",
       "      <th>0</th>\n",
       "      <td>1</td>\n",
       "      <td>University of Oxford</td>\n",
       "      <td>20967</td>\n",
       "      <td>10.6</td>\n",
       "      <td>0.42</td>\n",
       "      <td>1</td>\n",
       "      <td>20835</td>\n",
       "      <td>10.7</td>\n",
       "      <td>0.42</td>\n",
       "      <td>0.006296</td>\n",
       "      <td>0.00</td>\n",
       "      <td>-0.1</td>\n",
       "      <td>0</td>\n",
       "    </tr>\n",
       "    <tr>\n",
       "      <th>1</th>\n",
       "      <td>2</td>\n",
       "      <td>Harvard University</td>\n",
       "      <td>21887</td>\n",
       "      <td>9.6</td>\n",
       "      <td>0.25</td>\n",
       "      <td>2</td>\n",
       "      <td>21574</td>\n",
       "      <td>9.5</td>\n",
       "      <td>0.24</td>\n",
       "      <td>0.014301</td>\n",
       "      <td>0.01</td>\n",
       "      <td>0.1</td>\n",
       "      <td>0</td>\n",
       "    </tr>\n",
       "    <tr>\n",
       "      <th>2</th>\n",
       "      <td>3</td>\n",
       "      <td>University of Cambridge</td>\n",
       "      <td>20185</td>\n",
       "      <td>11.3</td>\n",
       "      <td>0.39</td>\n",
       "      <td>5</td>\n",
       "      <td>19681</td>\n",
       "      <td>11.1</td>\n",
       "      <td>0.39</td>\n",
       "      <td>0.024969</td>\n",
       "      <td>0.00</td>\n",
       "      <td>0.2</td>\n",
       "      <td>-2</td>\n",
       "    </tr>\n",
       "    <tr>\n",
       "      <th>3</th>\n",
       "      <td>3</td>\n",
       "      <td>Stanford University</td>\n",
       "      <td>16164</td>\n",
       "      <td>7.1</td>\n",
       "      <td>0.24</td>\n",
       "      <td>4</td>\n",
       "      <td>16319</td>\n",
       "      <td>7.3</td>\n",
       "      <td>0.23</td>\n",
       "      <td>-0.009498</td>\n",
       "      <td>0.01</td>\n",
       "      <td>-0.2</td>\n",
       "      <td>-1</td>\n",
       "    </tr>\n",
       "    <tr>\n",
       "      <th>4</th>\n",
       "      <td>5</td>\n",
       "      <td>Massachusetts Institute of Technology</td>\n",
       "      <td>11415</td>\n",
       "      <td>8.2</td>\n",
       "      <td>0.33</td>\n",
       "      <td>5</td>\n",
       "      <td>11459</td>\n",
       "      <td>8.4</td>\n",
       "      <td>0.33</td>\n",
       "      <td>-0.003840</td>\n",
       "      <td>0.00</td>\n",
       "      <td>-0.2</td>\n",
       "      <td>0</td>\n",
       "    </tr>\n",
       "    <tr>\n",
       "      <th>...</th>\n",
       "      <td>...</td>\n",
       "      <td>...</td>\n",
       "      <td>...</td>\n",
       "      <td>...</td>\n",
       "      <td>...</td>\n",
       "      <td>...</td>\n",
       "      <td>...</td>\n",
       "      <td>...</td>\n",
       "      <td>...</td>\n",
       "      <td>...</td>\n",
       "      <td>...</td>\n",
       "      <td>...</td>\n",
       "      <td>...</td>\n",
       "    </tr>\n",
       "    <tr>\n",
       "      <th>1188</th>\n",
       "      <td>1350</td>\n",
       "      <td>Pontifical Catholic University of Peru</td>\n",
       "      <td>25644</td>\n",
       "      <td>7.8</td>\n",
       "      <td>0.01</td>\n",
       "      <td>1100</td>\n",
       "      <td>26809</td>\n",
       "      <td>7.1</td>\n",
       "      <td>0.02</td>\n",
       "      <td>-0.043456</td>\n",
       "      <td>-0.01</td>\n",
       "      <td>0.7</td>\n",
       "      <td>250</td>\n",
       "    </tr>\n",
       "    <tr>\n",
       "      <th>1189</th>\n",
       "      <td>1350</td>\n",
       "      <td>Pontifical Catholic University of Valparaiso</td>\n",
       "      <td>17703</td>\n",
       "      <td>26.6</td>\n",
       "      <td>0.01</td>\n",
       "      <td>1100</td>\n",
       "      <td>17411</td>\n",
       "      <td>25.4</td>\n",
       "      <td>0.01</td>\n",
       "      <td>0.016494</td>\n",
       "      <td>0.00</td>\n",
       "      <td>1.2</td>\n",
       "      <td>250</td>\n",
       "    </tr>\n",
       "    <tr>\n",
       "      <th>1190</th>\n",
       "      <td>1350</td>\n",
       "      <td>Pontificia Universidade Catolica do Parana</td>\n",
       "      <td>12301</td>\n",
       "      <td>14.7</td>\n",
       "      <td>0.01</td>\n",
       "      <td>1100</td>\n",
       "      <td>13324</td>\n",
       "      <td>14.9</td>\n",
       "      <td>0.01</td>\n",
       "      <td>-0.076779</td>\n",
       "      <td>0.00</td>\n",
       "      <td>-0.2</td>\n",
       "      <td>250</td>\n",
       "    </tr>\n",
       "    <tr>\n",
       "      <th>1191</th>\n",
       "      <td>1350</td>\n",
       "      <td>University of Primorska</td>\n",
       "      <td>6089</td>\n",
       "      <td>16.6</td>\n",
       "      <td>0.15</td>\n",
       "      <td>1100</td>\n",
       "      <td>5149</td>\n",
       "      <td>15.1</td>\n",
       "      <td>0.14</td>\n",
       "      <td>0.154377</td>\n",
       "      <td>0.01</td>\n",
       "      <td>1.5</td>\n",
       "      <td>250</td>\n",
       "    </tr>\n",
       "    <tr>\n",
       "      <th>1192</th>\n",
       "      <td>1350</td>\n",
       "      <td>Prince of Songkla University</td>\n",
       "      <td>32779</td>\n",
       "      <td>13.0</td>\n",
       "      <td>0.02</td>\n",
       "      <td>1350</td>\n",
       "      <td>35735</td>\n",
       "      <td>14.3</td>\n",
       "      <td>0.02</td>\n",
       "      <td>-0.082720</td>\n",
       "      <td>0.00</td>\n",
       "      <td>-1.3</td>\n",
       "      <td>0</td>\n",
       "    </tr>\n",
       "  </tbody>\n",
       "</table>\n",
       "<p>1193 rows × 13 columns</p>\n",
       "</div>"
      ],
      "text/plain": [
       "      rank_2023                                    University  \\\n",
       "0             1                          University of Oxford   \n",
       "1             2                            Harvard University   \n",
       "2             3                       University of Cambridge   \n",
       "3             3                           Stanford University   \n",
       "4             5         Massachusetts Institute of Technology   \n",
       "...         ...                                           ...   \n",
       "1188       1350        Pontifical Catholic University of Peru   \n",
       "1189       1350  Pontifical Catholic University of Valparaiso   \n",
       "1190       1350    Pontificia Universidade Catolica do Parana   \n",
       "1191       1350                       University of Primorska   \n",
       "1192       1350                  Prince of Songkla University   \n",
       "\n",
       "      Total Students_2023  student staff ratio_2023  \\\n",
       "0                   20967                      10.6   \n",
       "1                   21887                       9.6   \n",
       "2                   20185                      11.3   \n",
       "3                   16164                       7.1   \n",
       "4                   11415                       8.2   \n",
       "...                   ...                       ...   \n",
       "1188                25644                       7.8   \n",
       "1189                17703                      26.6   \n",
       "1190                12301                      14.7   \n",
       "1191                 6089                      16.6   \n",
       "1192                32779                      13.0   \n",
       "\n",
       "      pc of int'l students_2023  rank_2022  Total Students_2022  \\\n",
       "0                          0.42          1                20835   \n",
       "1                          0.25          2                21574   \n",
       "2                          0.39          5                19681   \n",
       "3                          0.24          4                16319   \n",
       "4                          0.33          5                11459   \n",
       "...                         ...        ...                  ...   \n",
       "1188                       0.01       1100                26809   \n",
       "1189                       0.01       1100                17411   \n",
       "1190                       0.01       1100                13324   \n",
       "1191                       0.15       1100                 5149   \n",
       "1192                       0.02       1350                35735   \n",
       "\n",
       "      student staff ratio_2022  pc of int'l students_2022  students_growth  \\\n",
       "0                         10.7                       0.42         0.006296   \n",
       "1                          9.5                       0.24         0.014301   \n",
       "2                         11.1                       0.39         0.024969   \n",
       "3                          7.3                       0.23        -0.009498   \n",
       "4                          8.4                       0.33        -0.003840   \n",
       "...                        ...                        ...              ...   \n",
       "1188                       7.1                       0.02        -0.043456   \n",
       "1189                      25.4                       0.01         0.016494   \n",
       "1190                      14.9                       0.01        -0.076779   \n",
       "1191                      15.1                       0.14         0.154377   \n",
       "1192                      14.3                       0.02        -0.082720   \n",
       "\n",
       "      int_stud_growth  staff_rate_growth  rank_growth  \n",
       "0                0.00               -0.1            0  \n",
       "1                0.01                0.1            0  \n",
       "2                0.00                0.2           -2  \n",
       "3                0.01               -0.2           -1  \n",
       "4                0.00               -0.2            0  \n",
       "...               ...                ...          ...  \n",
       "1188            -0.01                0.7          250  \n",
       "1189             0.00                1.2          250  \n",
       "1190             0.00               -0.2          250  \n",
       "1191             0.01                1.5          250  \n",
       "1192             0.00               -1.3            0  \n",
       "\n",
       "[1193 rows x 13 columns]"
      ]
     },
     "execution_count": 242,
     "metadata": {},
     "output_type": "execute_result"
    }
   ],
   "source": [
    "the_compare"
   ]
  },
  {
   "cell_type": "code",
   "execution_count": 245,
   "metadata": {},
   "outputs": [],
   "source": [
    "the_less500 = the_compare[(the_compare['rank_2022'] <= 500) | (the_compare['rank_2023'] <= 500)]"
   ]
  },
  {
   "cell_type": "code",
   "execution_count": 247,
   "metadata": {},
   "outputs": [
    {
     "data": {
      "image/png": "[encoded data removed]",
      "text/plain": [
       "<Figure size 1296x288 with 4 Axes>"
      ]
     },
     "metadata": {
      "needs_background": "light"
     },
     "output_type": "display_data"
    }
   ],
   "source": [
    "fig = plt.figure(figsize=(18, 4)) \n",
    "ax = fig.add_subplot(1, 4, 1)\n",
    "plt.plot(the_less500['students_growth'])\n",
    "ax = fig.add_subplot(1, 4, 2)\n",
    "plt.plot(the_less500['int_stud_growth'])\n",
    "ax = fig.add_subplot(1, 4, 3)\n",
    "plt.plot(the_less500['staff_rate_growth'])\n",
    "ax = fig.add_subplot(1, 4, 4)\n",
    "plt.plot(the_less500['rank_growth'])\n",
    "plt.show()"
   ]
  },
  {
   "cell_type": "code",
   "execution_count": 248,
   "metadata": {},
   "outputs": [
    {
     "name": "stdout",
     "output_type": "stream",
     "text": [
      "R square score = 0.02252832906512492\n",
      "(array([1], dtype=int64),)\n"
     ]
    }
   ],
   "source": [
    "X1 = the_less500['students_growth']\n",
    "X2 = the_less500['int_stud_growth']\n",
    "X3 = the_less500['staff_rate_growth']\n",
    "X = pd.concat([X1, X2, X3], axis = 1)\n",
    "y = the_less500['rank_growth']\n",
    "reg = lm.fit(X, y)\n",
    "yhat = reg.predict(X)\n",
    "R2 = ((y - yhat)** 2).sum() / ((y - y.mean()) ** 2).sum()\n",
    "print('R square score =', 1-R2)\n",
    "\n",
    "se_b = [np.sqrt( ((y - yhat)**2).sum() / (len(y)-2) ) / np.sqrt( ((X.iloc[:,i] - X.iloc[:,i].mean())**2).sum() ) for i in range(X.shape[1])]\n",
    "print(np.where(abs(reg.coef_ / se_b) < stats.t.ppf(0.95, df = len(y)-2)))"
   ]
  },
  {
   "cell_type": "code",
   "execution_count": 249,
   "metadata": {},
   "outputs": [
    {
     "name": "stdout",
     "output_type": "stream",
     "text": [
      "R square score = 0.02102896779778851\n",
      "(array([], dtype=int64),)\n"
     ]
    }
   ],
   "source": [
    "X = pd.concat([X1, X3], axis = 1)\n",
    "y = the_less500['rank_growth']\n",
    "reg = lm.fit(X, y)\n",
    "yhat = reg.predict(X)\n",
    "R2 = ((y - yhat)** 2).sum() / ((y - y.mean()) ** 2).sum()\n",
    "print('R square score =', 1-R2)\n",
    "\n",
    "se_b = [np.sqrt( ((y - yhat)**2).sum() / (len(y)-2) ) / np.sqrt( ((X.iloc[:,i] - X.iloc[:,i].mean())**2).sum() ) for i in range(X.shape[1])]\n",
    "print(np.where(abs(reg.coef_ / se_b) < stats.t.ppf(0.95, df = len(y)-2)))"
   ]
  },
  {
   "attachments": {},
   "cell_type": "markdown",
   "metadata": {},
   "source": [
    "由上述的分析結果可以知道\n",
    "- QS的資料較能解釋排名的變異\n",
    "在觀察QS的資料時我們發現\n",
    "- 學生人數, 師生比, 國際學生人數, Research Output, Size 對排名影響較大\n",
    "- 學生人數增減, 國際學生人數增減, Research Output 對排名增減影響較大, 但模型解釋能力不好\n",
    "在觀察THE的資料時我們發現\n",
    "- 學生人數, 國際學生人數 對排名影響較大, 但模型解釋能力不好"
   ]
  },
  {
   "attachments": {},
   "cell_type": "markdown",
   "metadata": {},
   "source": [
    "近年來, 兩個機構間學生人數對排名的影響的差異以減少, 因此為了不同排名機構而報不同學生人數的現象也會因此減少"
   ]
  },
  {
   "attachments": {},
   "cell_type": "markdown",
   "metadata": {},
   "source": [
    "合併QS, THE"
   ]
  },
  {
   "cell_type": "code",
   "execution_count": 295,
   "metadata": {},
   "outputs": [],
   "source": [
    "merge_table = pd.merge(the, qs, how = 'outer', on = 'University')"
   ]
  },
  {
   "cell_type": "code",
   "execution_count": 296,
   "metadata": {},
   "outputs": [
    {
     "name": "stdout",
     "output_type": "stream",
     "text": [
      "QS的學校,但和THE對不起來共有 580 所\n"
     ]
    }
   ],
   "source": [
    "print('QS的學校,但和THE對不起來共有', len(merge_table[merge_table['rank_2023_x'].isna()]['University']), '所')"
   ]
  },
  {
   "cell_type": "code",
   "execution_count": 297,
   "metadata": {},
   "outputs": [
    {
     "name": "stdout",
     "output_type": "stream",
     "text": [
      "THE的學校,但和THE對不起來共有 620 所\n"
     ]
    }
   ],
   "source": [
    "print('THE的學校,但和THE對不起來共有', len(merge_table[merge_table['rank_2023_y'].isna()]['University']), '所')"
   ]
  },
  {
   "cell_type": "code",
   "execution_count": 309,
   "metadata": {},
   "outputs": [],
   "source": [
    "merge_inner = pd.merge(the, qs, how = 'inner', on = 'University')"
   ]
  },
  {
   "cell_type": "code",
   "execution_count": 310,
   "metadata": {},
   "outputs": [],
   "source": [
    "merge_inner = merge_inner.drop(['Status', 'Research Output', 'Size','Int\\'l staff rate_2023', 'Domestic staff rate_2023', 'Int\\'l staff rate_2022', 'Domestic staff rate_2022'], axis = 1)"
   ]
  },
  {
   "cell_type": "code",
   "execution_count": 311,
   "metadata": {},
   "outputs": [],
   "source": [
    "merge_inner = merge_inner.rename(columns={'rank_2023_x':'rank_2023_the', 'Total Students_2023':'Total students_2023_the',\n",
    "'student staff ratio_2023': 'student staff ratio_2023_the', 'pc of int\\'l students_2023':'pc of int\\'l students_2023_the',\n",
    "'rank_2022_x': 'rank_2022_the', 'Total Students_2022':'Total students_2022_the',\n",
    "'student staff ratio_2022': 'student staff ratio_2022_the', 'pc of int\\'l students_2022':'pc of int\\'l students_2022_the', \n",
    "'Total students_2023':'Total students_2023_qs', 'International students_2023':'International students_2023_qs',\n",
    "'Total faculty staff_2023':'Total faculty staff_2023_qs', 'rank_2023_y':'rank_2023_qs',\n",
    "'Total students_2022':'Total students_2022_qs', 'International students_2022':'International students_2022_qs',\n",
    "'Total faculty staff_2022':'Total faculty staff_2022_qs', 'rank_2022_y':'rank_2022_qs'})"
   ]
  },
  {
   "cell_type": "code",
   "execution_count": 312,
   "metadata": {},
   "outputs": [
    {
     "data": {
      "text/html": [
       "<div>\n",
       "<style scoped>\n",
       "    .dataframe tbody tr th:only-of-type {\n",
       "        vertical-align: middle;\n",
       "    }\n",
       "\n",
       "    .dataframe tbody tr th {\n",
       "        vertical-align: top;\n",
       "    }\n",
       "\n",
       "    .dataframe thead th {\n",
       "        text-align: right;\n",
       "    }\n",
       "</style>\n",
       "<table border=\"1\" class=\"dataframe\">\n",
       "  <thead>\n",
       "    <tr style=\"text-align: right;\">\n",
       "      <th></th>\n",
       "      <th>rank_2023_the</th>\n",
       "      <th>University</th>\n",
       "      <th>Total students_2023_the</th>\n",
       "      <th>student staff ratio_2023_the</th>\n",
       "      <th>pc of int'l students_2023_the</th>\n",
       "      <th>rank_2022_the</th>\n",
       "      <th>Total students_2022_the</th>\n",
       "      <th>student staff ratio_2022_the</th>\n",
       "      <th>pc of int'l students_2022_the</th>\n",
       "      <th>Total students_2023_qs</th>\n",
       "      <th>International students_2023_qs</th>\n",
       "      <th>Total faculty staff_2023_qs</th>\n",
       "      <th>rank_2023_qs</th>\n",
       "      <th>Total students_2022_qs</th>\n",
       "      <th>International students_2022_qs</th>\n",
       "      <th>Total faculty staff_2022_qs</th>\n",
       "      <th>rank_2022_qs</th>\n",
       "    </tr>\n",
       "  </thead>\n",
       "  <tbody>\n",
       "    <tr>\n",
       "      <th>0</th>\n",
       "      <td>1</td>\n",
       "      <td>University of Oxford</td>\n",
       "      <td>20967</td>\n",
       "      <td>10.6</td>\n",
       "      <td>0.42</td>\n",
       "      <td>1</td>\n",
       "      <td>20835</td>\n",
       "      <td>10.7</td>\n",
       "      <td>0.42</td>\n",
       "      <td>21972</td>\n",
       "      <td>9024</td>\n",
       "      <td>6650</td>\n",
       "      <td>4</td>\n",
       "      <td>20889</td>\n",
       "      <td>8442</td>\n",
       "      <td>6708</td>\n",
       "      <td>2</td>\n",
       "    </tr>\n",
       "    <tr>\n",
       "      <th>1</th>\n",
       "      <td>2</td>\n",
       "      <td>Harvard University</td>\n",
       "      <td>21887</td>\n",
       "      <td>9.6</td>\n",
       "      <td>0.25</td>\n",
       "      <td>2</td>\n",
       "      <td>21574</td>\n",
       "      <td>9.5</td>\n",
       "      <td>0.24</td>\n",
       "      <td>21877</td>\n",
       "      <td>5379</td>\n",
       "      <td>4480</td>\n",
       "      <td>5</td>\n",
       "      <td>23663</td>\n",
       "      <td>5877</td>\n",
       "      <td>4646</td>\n",
       "      <td>5</td>\n",
       "    </tr>\n",
       "    <tr>\n",
       "      <th>2</th>\n",
       "      <td>3</td>\n",
       "      <td>University of Cambridge</td>\n",
       "      <td>20185</td>\n",
       "      <td>11.3</td>\n",
       "      <td>0.39</td>\n",
       "      <td>5</td>\n",
       "      <td>19681</td>\n",
       "      <td>11.1</td>\n",
       "      <td>0.39</td>\n",
       "      <td>20871</td>\n",
       "      <td>7865</td>\n",
       "      <td>5735</td>\n",
       "      <td>2</td>\n",
       "      <td>20383</td>\n",
       "      <td>7925</td>\n",
       "      <td>5800</td>\n",
       "      <td>3</td>\n",
       "    </tr>\n",
       "    <tr>\n",
       "      <th>3</th>\n",
       "      <td>3</td>\n",
       "      <td>Stanford University</td>\n",
       "      <td>16164</td>\n",
       "      <td>7.1</td>\n",
       "      <td>0.24</td>\n",
       "      <td>4</td>\n",
       "      <td>16319</td>\n",
       "      <td>7.3</td>\n",
       "      <td>0.23</td>\n",
       "      <td>14518</td>\n",
       "      <td>3318</td>\n",
       "      <td>4694</td>\n",
       "      <td>3</td>\n",
       "      <td>16164</td>\n",
       "      <td>3879</td>\n",
       "      <td>4725</td>\n",
       "      <td>3</td>\n",
       "    </tr>\n",
       "    <tr>\n",
       "      <th>4</th>\n",
       "      <td>5</td>\n",
       "      <td>Massachusetts Institute of Technology</td>\n",
       "      <td>11415</td>\n",
       "      <td>8.2</td>\n",
       "      <td>0.33</td>\n",
       "      <td>5</td>\n",
       "      <td>11459</td>\n",
       "      <td>8.4</td>\n",
       "      <td>0.33</td>\n",
       "      <td>11035</td>\n",
       "      <td>3627</td>\n",
       "      <td>2919</td>\n",
       "      <td>1</td>\n",
       "      <td>11333</td>\n",
       "      <td>3730</td>\n",
       "      <td>3065</td>\n",
       "      <td>1</td>\n",
       "    </tr>\n",
       "    <tr>\n",
       "      <th>...</th>\n",
       "      <td>...</td>\n",
       "      <td>...</td>\n",
       "      <td>...</td>\n",
       "      <td>...</td>\n",
       "      <td>...</td>\n",
       "      <td>...</td>\n",
       "      <td>...</td>\n",
       "      <td>...</td>\n",
       "      <td>...</td>\n",
       "      <td>...</td>\n",
       "      <td>...</td>\n",
       "      <td>...</td>\n",
       "      <td>...</td>\n",
       "      <td>...</td>\n",
       "      <td>...</td>\n",
       "      <td>...</td>\n",
       "      <td>...</td>\n",
       "    </tr>\n",
       "    <tr>\n",
       "      <th>568</th>\n",
       "      <td>1350</td>\n",
       "      <td>National Research Saratov State University</td>\n",
       "      <td>9826</td>\n",
       "      <td>9.3</td>\n",
       "      <td>0.11</td>\n",
       "      <td>1350</td>\n",
       "      <td>9746</td>\n",
       "      <td>9.1</td>\n",
       "      <td>0.11</td>\n",
       "      <td>9336</td>\n",
       "      <td>1306</td>\n",
       "      <td>1718</td>\n",
       "      <td>555</td>\n",
       "      <td>10153</td>\n",
       "      <td>1109</td>\n",
       "      <td>1718</td>\n",
       "      <td>535</td>\n",
       "    </tr>\n",
       "    <tr>\n",
       "      <th>569</th>\n",
       "      <td>1350</td>\n",
       "      <td>Slovak University of Agriculture in Nitra</td>\n",
       "      <td>4870</td>\n",
       "      <td>11.3</td>\n",
       "      <td>0.03</td>\n",
       "      <td>1350</td>\n",
       "      <td>5326</td>\n",
       "      <td>12.7</td>\n",
       "      <td>0.03</td>\n",
       "      <td>5610</td>\n",
       "      <td>165</td>\n",
       "      <td>430</td>\n",
       "      <td>1300</td>\n",
       "      <td>5610</td>\n",
       "      <td>163</td>\n",
       "      <td>430</td>\n",
       "      <td>1100</td>\n",
       "    </tr>\n",
       "    <tr>\n",
       "      <th>570</th>\n",
       "      <td>1350</td>\n",
       "      <td>University of Ostrava</td>\n",
       "      <td>8492</td>\n",
       "      <td>16.4</td>\n",
       "      <td>0.11</td>\n",
       "      <td>1350</td>\n",
       "      <td>8570</td>\n",
       "      <td>16.8</td>\n",
       "      <td>0.10</td>\n",
       "      <td>6935</td>\n",
       "      <td>679</td>\n",
       "      <td>564</td>\n",
       "      <td>1100</td>\n",
       "      <td>6935</td>\n",
       "      <td>679</td>\n",
       "      <td>564</td>\n",
       "      <td>1100</td>\n",
       "    </tr>\n",
       "    <tr>\n",
       "      <th>571</th>\n",
       "      <td>1350</td>\n",
       "      <td>Pontificia Universidade Catolica do Parana</td>\n",
       "      <td>12301</td>\n",
       "      <td>14.7</td>\n",
       "      <td>0.01</td>\n",
       "      <td>1100</td>\n",
       "      <td>13324</td>\n",
       "      <td>14.9</td>\n",
       "      <td>0.01</td>\n",
       "      <td>10370</td>\n",
       "      <td>117</td>\n",
       "      <td>721</td>\n",
       "      <td>1300</td>\n",
       "      <td>10556</td>\n",
       "      <td>141</td>\n",
       "      <td>758</td>\n",
       "      <td>1300</td>\n",
       "    </tr>\n",
       "    <tr>\n",
       "      <th>572</th>\n",
       "      <td>1350</td>\n",
       "      <td>Prince of Songkla University</td>\n",
       "      <td>32779</td>\n",
       "      <td>13.0</td>\n",
       "      <td>0.02</td>\n",
       "      <td>1350</td>\n",
       "      <td>35735</td>\n",
       "      <td>14.3</td>\n",
       "      <td>0.02</td>\n",
       "      <td>32779</td>\n",
       "      <td>609</td>\n",
       "      <td>2517</td>\n",
       "      <td>900</td>\n",
       "      <td>34330</td>\n",
       "      <td>685</td>\n",
       "      <td>2553</td>\n",
       "      <td>900</td>\n",
       "    </tr>\n",
       "  </tbody>\n",
       "</table>\n",
       "<p>573 rows × 17 columns</p>\n",
       "</div>"
      ],
      "text/plain": [
       "     rank_2023_the                                  University  \\\n",
       "0                1                        University of Oxford   \n",
       "1                2                          Harvard University   \n",
       "2                3                     University of Cambridge   \n",
       "3                3                         Stanford University   \n",
       "4                5       Massachusetts Institute of Technology   \n",
       "..             ...                                         ...   \n",
       "568           1350  National Research Saratov State University   \n",
       "569           1350   Slovak University of Agriculture in Nitra   \n",
       "570           1350                       University of Ostrava   \n",
       "571           1350  Pontificia Universidade Catolica do Parana   \n",
       "572           1350                Prince of Songkla University   \n",
       "\n",
       "     Total students_2023_the  student staff ratio_2023_the  \\\n",
       "0                      20967                          10.6   \n",
       "1                      21887                           9.6   \n",
       "2                      20185                          11.3   \n",
       "3                      16164                           7.1   \n",
       "4                      11415                           8.2   \n",
       "..                       ...                           ...   \n",
       "568                     9826                           9.3   \n",
       "569                     4870                          11.3   \n",
       "570                     8492                          16.4   \n",
       "571                    12301                          14.7   \n",
       "572                    32779                          13.0   \n",
       "\n",
       "     pc of int'l students_2023_the  rank_2022_the  Total students_2022_the  \\\n",
       "0                             0.42              1                    20835   \n",
       "1                             0.25              2                    21574   \n",
       "2                             0.39              5                    19681   \n",
       "3                             0.24              4                    16319   \n",
       "4                             0.33              5                    11459   \n",
       "..                             ...            ...                      ...   \n",
       "568                           0.11           1350                     9746   \n",
       "569                           0.03           1350                     5326   \n",
       "570                           0.11           1350                     8570   \n",
       "571                           0.01           1100                    13324   \n",
       "572                           0.02           1350                    35735   \n",
       "\n",
       "     student staff ratio_2022_the  pc of int'l students_2022_the  \\\n",
       "0                            10.7                           0.42   \n",
       "1                             9.5                           0.24   \n",
       "2                            11.1                           0.39   \n",
       "3                             7.3                           0.23   \n",
       "4                             8.4                           0.33   \n",
       "..                            ...                            ...   \n",
       "568                           9.1                           0.11   \n",
       "569                          12.7                           0.03   \n",
       "570                          16.8                           0.10   \n",
       "571                          14.9                           0.01   \n",
       "572                          14.3                           0.02   \n",
       "\n",
       "     Total students_2023_qs  International students_2023_qs  \\\n",
       "0                     21972                            9024   \n",
       "1                     21877                            5379   \n",
       "2                     20871                            7865   \n",
       "3                     14518                            3318   \n",
       "4                     11035                            3627   \n",
       "..                      ...                             ...   \n",
       "568                    9336                            1306   \n",
       "569                    5610                             165   \n",
       "570                    6935                             679   \n",
       "571                   10370                             117   \n",
       "572                   32779                             609   \n",
       "\n",
       "     Total faculty staff_2023_qs  rank_2023_qs  Total students_2022_qs  \\\n",
       "0                           6650             4                   20889   \n",
       "1                           4480             5                   23663   \n",
       "2                           5735             2                   20383   \n",
       "3                           4694             3                   16164   \n",
       "4                           2919             1                   11333   \n",
       "..                           ...           ...                     ...   \n",
       "568                         1718           555                   10153   \n",
       "569                          430          1300                    5610   \n",
       "570                          564          1100                    6935   \n",
       "571                          721          1300                   10556   \n",
       "572                         2517           900                   34330   \n",
       "\n",
       "     International students_2022_qs  Total faculty staff_2022_qs  rank_2022_qs  \n",
       "0                              8442                         6708             2  \n",
       "1                              5877                         4646             5  \n",
       "2                              7925                         5800             3  \n",
       "3                              3879                         4725             3  \n",
       "4                              3730                         3065             1  \n",
       "..                              ...                          ...           ...  \n",
       "568                            1109                         1718           535  \n",
       "569                             163                          430          1100  \n",
       "570                             679                          564          1100  \n",
       "571                             141                          758          1300  \n",
       "572                             685                         2553           900  \n",
       "\n",
       "[573 rows x 17 columns]"
      ]
     },
     "execution_count": 312,
     "metadata": {},
     "output_type": "execute_result"
    }
   ],
   "source": [
    "merge_inner"
   ]
  },
  {
   "cell_type": "code",
   "execution_count": 314,
   "metadata": {},
   "outputs": [
    {
     "data": {
      "text/plain": [
       "[<matplotlib.lines.Line2D at 0x1e2ef8e8070>]"
      ]
     },
     "execution_count": 314,
     "metadata": {},
     "output_type": "execute_result"
    },
    {
     "data": {
      "image/png": "[encoded data removed]",
      "text/plain": [
       "<Figure size 432x288 with 1 Axes>"
      ]
     },
     "metadata": {
      "needs_background": "light"
     },
     "output_type": "display_data"
    }
   ],
   "source": [
    "plt.plot(merge_inner['Total students_2023_the'] - merge_inner['Total students_2023_qs'])"
   ]
  },
  {
   "cell_type": "code",
   "execution_count": 322,
   "metadata": {},
   "outputs": [
    {
     "name": "stdout",
     "output_type": "stream",
     "text": [
      "共有 10 間大學2023年兩個機構的人數差距>10000\n",
      "['University of Vienna', 'University of Colombo', 'University of Dhaka', 'Hacettepe University', 'Universite du Quebec', 'Al-Azhar University', 'Cairo University', 'Assiut University', 'Charles Sturt University', 'Universidade do Estado do Rio de Janeiro']\n"
     ]
    }
   ],
   "source": [
    "diff2023 = merge_inner[abs(merge_inner['Total students_2023_the'] - merge_inner['Total students_2023_qs']) > 10000]\n",
    "print('共有', diff2023.shape[0], '間大學2023年兩個機構的人數差距>10000')\n",
    "print(list(diff2023['University']))"
   ]
  },
  {
   "cell_type": "code",
   "execution_count": 323,
   "metadata": {},
   "outputs": [
    {
     "name": "stdout",
     "output_type": "stream",
     "text": [
      "共有 6 間大學2023年THE-QS人數>10000\n",
      "['University of Colombo', 'University of Dhaka', 'Al-Azhar University', 'Cairo University', 'Assiut University', 'Charles Sturt University']\n"
     ]
    }
   ],
   "source": [
    "the_more_than_qs_2023 = merge_inner[merge_inner['Total students_2023_the'] - merge_inner['Total students_2023_qs'] > 10000]\n",
    "print('共有', the_more_than_qs_2023.shape[0], '間大學2023年THE-QS人數>10000')\n",
    "print(list(the_more_than_qs_2023['University']))"
   ]
  },
  {
   "cell_type": "code",
   "execution_count": 324,
   "metadata": {},
   "outputs": [
    {
     "name": "stdout",
     "output_type": "stream",
     "text": [
      "共有 4 間大學2023年THE-QS人數>10000\n",
      "['University of Vienna', 'Hacettepe University', 'Universite du Quebec', 'Universidade do Estado do Rio de Janeiro']\n"
     ]
    }
   ],
   "source": [
    "qs_more_than_the_2023 = merge_inner[merge_inner['Total students_2023_the'] - merge_inner['Total students_2023_qs'] < -10000]\n",
    "print('共有', qs_more_than_the_2023.shape[0], '間大學2023年QS-THE人數>10000')\n",
    "print(list(qs_more_than_the_2023['University']))"
   ]
  },
  {
   "cell_type": "code",
   "execution_count": 325,
   "metadata": {},
   "outputs": [
    {
     "name": "stdout",
     "output_type": "stream",
     "text": [
      "共有 11 間大學2022年兩個機構的人數差距>10000\n",
      "['University of Southern California', 'University of Vienna', 'Banaras Hindu University', 'University of Dhaka', 'Universite du Quebec', 'Al-Azhar University', 'Cairo University', 'Assiut University', 'Charles Sturt University', 'Universidade do Estado do Rio de Janeiro', 'Marmara University']\n"
     ]
    }
   ],
   "source": [
    "diff2022 = merge_inner[abs(merge_inner['Total students_2022_the'] - merge_inner['Total students_2022_qs']) > 10000]\n",
    "print('共有', diff2022.shape[0], '間大學2022年兩個機構的人數差距>10000')\n",
    "print(list(diff2022['University']))"
   ]
  },
  {
   "cell_type": "code",
   "execution_count": 326,
   "metadata": {},
   "outputs": [
    {
     "name": "stdout",
     "output_type": "stream",
     "text": [
      "共有 8 間大學2022年THE-QS人數>10000\n",
      "['University of Southern California', 'University of Dhaka', 'Universite du Quebec', 'Al-Azhar University', 'Cairo University', 'Assiut University', 'Charles Sturt University', 'Marmara University']\n"
     ]
    }
   ],
   "source": [
    "the_more_than_qs_2022 = merge_inner[merge_inner['Total students_2022_the'] - merge_inner['Total students_2022_qs'] > 10000]\n",
    "print('共有', the_more_than_qs_2022.shape[0], '間大學2022年THE-QS人數>10000')\n",
    "print(list(the_more_than_qs_2022['University']))"
   ]
  },
  {
   "cell_type": "code",
   "execution_count": 327,
   "metadata": {},
   "outputs": [
    {
     "name": "stdout",
     "output_type": "stream",
     "text": [
      "共有 3 間大學2022年QS-THE人數>10000\n",
      "['University of Vienna', 'Banaras Hindu University', 'Universidade do Estado do Rio de Janeiro']\n"
     ]
    }
   ],
   "source": [
    "qs_more_than_the_2022 = merge_inner[merge_inner['Total students_2022_the'] - merge_inner['Total students_2022_qs'] < -10000]\n",
    "print('共有', qs_more_than_the_2022.shape[0], '間大學2022年QS-THE人數>10000')\n",
    "print(list(qs_more_than_the_2022['University']))"
   ]
  }
 ],
 "metadata": {
  "kernelspec": {
   "display_name": "base",
   "language": "python",
   "name": "python3"
  },
  "language_info": {
   "codemirror_mode": {
    "name": "ipython",
    "version": 3
   },
   "file_extension": ".py",
   "mimetype": "text/x-python",
   "name": "python",
   "nbconvert_exporter": "python",
   "pygments_lexer": "ipython3",
   "version": "3.9.7"
  },
  "orig_nbformat": 4,
  "vscode": {
   "interpreter": {
    "hash": "ad2bdc8ecc057115af97d19610ffacc2b4e99fae6737bb82f5d7fb13d2f2c186"
   }
  }
 },
 "nbformat": 4,
 "nbformat_minor": 2
}
