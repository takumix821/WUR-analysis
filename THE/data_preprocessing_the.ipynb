{
 "cells": [
  {
   "cell_type": "code",
   "execution_count": 175,
   "metadata": {},
   "outputs": [],
   "source": [
    "import pandas as pd\n",
    "import numpy as np"
   ]
  },
  {
   "cell_type": "code",
   "execution_count": 176,
   "metadata": {},
   "outputs": [],
   "source": [
    "the_raw_2022 = pd.read_csv('C:/Users/alion/OneDrive/文件/GitHub/WUR-analysis/THE/the_raw_2022.csv', encoding = 'utf8')\n",
    "the_raw_2023 = pd.read_csv('C:/Users/alion/OneDrive/文件/GitHub/WUR-analysis/THE/the_raw_2023.csv', encoding = 'utf8')"
   ]
  },
  {
   "cell_type": "code",
   "execution_count": 177,
   "metadata": {},
   "outputs": [],
   "source": [
    "the_2023 = the_raw_2023\n",
    "the_2023 = the_2023[the_2023['rank'] != 'Reporter']"
   ]
  },
  {
   "cell_type": "code",
   "execution_count": 178,
   "metadata": {},
   "outputs": [],
   "source": [
    "# university\n",
    "uni_f = [uni.split(' (')[0].split(' \"')[0] for uni in the_2023['University']]\n",
    "the_2023['University'] = uni_f\n",
    "# rank\n",
    "rank_range = the_2023['rank'].map({'201–250':'225', '251–300':'275', '301–350':'325', '351–400':'375', '401–500':'450', '501–600':'550','601–800':'700',\n",
    "'801–1000':'900', '1001–1200':'1100', '1201–1500':'1350', '1201+':'1350'})\n",
    "rank_woeq = the_2023['rank'].str.replace('=', '', regex=True)\n",
    "rank_f = [rank_woeq[i] if pd.isna(rank_range[i]) else rank_range[i] for i in range(len(the_2023['rank']))]\n",
    "the_2023['rank'] = rank_f\n",
    "the_2023['rank'] = the_2023['rank'].astype(int)\n",
    "# data\n",
    "the_2023['Total Students'] = the_2023['Total Students'].str.replace(',', '', regex=True)\n",
    "the_2023['Total Students'] = the_2023['Total Students'].astype('Int64')\n",
    "the_2023['student staff ratio'] = the_2023['student staff ratio'].astype('float')\n",
    "the_2023['pc of int\\'l students'] = the_2023['pc of int\\'l students'].str.replace('%', '', regex=True)\n",
    "the_2023['pc of int\\'l students'] = the_2023['pc of int\\'l students'].replace('', np.nan).astype('float')*0.01\n",
    "ratio_list = []\n",
    "for ra in the_2023['female:male ratio']:\n",
    "    try:\n",
    "        ratio_list.append([int(x) for x in ra.split(':')][0] / [int(x) for x in ra.split(':')][1])\n",
    "    except:\n",
    "        ratio_list.append(np.nan)\n",
    "the_2023['female:male ratio'] = ratio_list\n"
   ]
  },
  {
   "cell_type": "code",
   "execution_count": 179,
   "metadata": {},
   "outputs": [],
   "source": [
    "the_2022 = the_raw_2022\n",
    "the_2022 = the_2022[the_2022['rank'] != 'Reporter']"
   ]
  },
  {
   "cell_type": "code",
   "execution_count": 180,
   "metadata": {},
   "outputs": [
    {
     "name": "stderr",
     "output_type": "stream",
     "text": [
      "C:\\Users\\alion\\AppData\\Local\\Temp\\ipykernel_17544\\1538113793.py:3: SettingWithCopyWarning: \n",
      "A value is trying to be set on a copy of a slice from a DataFrame.\n",
      "Try using .loc[row_indexer,col_indexer] = value instead\n",
      "\n",
      "See the caveats in the documentation: https://pandas.pydata.org/pandas-docs/stable/user_guide/indexing.html#returning-a-view-versus-a-copy\n",
      "  the_2022['University'] = uni_f\n",
      "C:\\Users\\alion\\AppData\\Local\\Temp\\ipykernel_17544\\1538113793.py:9: SettingWithCopyWarning: \n",
      "A value is trying to be set on a copy of a slice from a DataFrame.\n",
      "Try using .loc[row_indexer,col_indexer] = value instead\n",
      "\n",
      "See the caveats in the documentation: https://pandas.pydata.org/pandas-docs/stable/user_guide/indexing.html#returning-a-view-versus-a-copy\n",
      "  the_2022['rank'] = rank_f\n",
      "C:\\Users\\alion\\AppData\\Local\\Temp\\ipykernel_17544\\1538113793.py:10: SettingWithCopyWarning: \n",
      "A value is trying to be set on a copy of a slice from a DataFrame.\n",
      "Try using .loc[row_indexer,col_indexer] = value instead\n",
      "\n",
      "See the caveats in the documentation: https://pandas.pydata.org/pandas-docs/stable/user_guide/indexing.html#returning-a-view-versus-a-copy\n",
      "  the_2022['rank'] = the_2022['rank'].astype(int)\n",
      "C:\\Users\\alion\\AppData\\Local\\Temp\\ipykernel_17544\\1538113793.py:12: SettingWithCopyWarning: \n",
      "A value is trying to be set on a copy of a slice from a DataFrame.\n",
      "Try using .loc[row_indexer,col_indexer] = value instead\n",
      "\n",
      "See the caveats in the documentation: https://pandas.pydata.org/pandas-docs/stable/user_guide/indexing.html#returning-a-view-versus-a-copy\n",
      "  the_2022['Total Students'] = the_2022['Total Students'].str.replace(',', '', regex=True)\n",
      "C:\\Users\\alion\\AppData\\Local\\Temp\\ipykernel_17544\\1538113793.py:13: SettingWithCopyWarning: \n",
      "A value is trying to be set on a copy of a slice from a DataFrame.\n",
      "Try using .loc[row_indexer,col_indexer] = value instead\n",
      "\n",
      "See the caveats in the documentation: https://pandas.pydata.org/pandas-docs/stable/user_guide/indexing.html#returning-a-view-versus-a-copy\n",
      "  the_2022['Total Students'] = the_2022['Total Students'].astype('Int64')\n",
      "C:\\Users\\alion\\AppData\\Local\\Temp\\ipykernel_17544\\1538113793.py:14: SettingWithCopyWarning: \n",
      "A value is trying to be set on a copy of a slice from a DataFrame.\n",
      "Try using .loc[row_indexer,col_indexer] = value instead\n",
      "\n",
      "See the caveats in the documentation: https://pandas.pydata.org/pandas-docs/stable/user_guide/indexing.html#returning-a-view-versus-a-copy\n",
      "  the_2022['student staff ratio'] = the_2022['student staff ratio'].astype('float')\n",
      "C:\\Users\\alion\\AppData\\Local\\Temp\\ipykernel_17544\\1538113793.py:15: SettingWithCopyWarning: \n",
      "A value is trying to be set on a copy of a slice from a DataFrame.\n",
      "Try using .loc[row_indexer,col_indexer] = value instead\n",
      "\n",
      "See the caveats in the documentation: https://pandas.pydata.org/pandas-docs/stable/user_guide/indexing.html#returning-a-view-versus-a-copy\n",
      "  the_2022['pc of int\\'l students'] = the_2022['pc of int\\'l students'].str.replace('%', '', regex=True)\n",
      "C:\\Users\\alion\\AppData\\Local\\Temp\\ipykernel_17544\\1538113793.py:16: SettingWithCopyWarning: \n",
      "A value is trying to be set on a copy of a slice from a DataFrame.\n",
      "Try using .loc[row_indexer,col_indexer] = value instead\n",
      "\n",
      "See the caveats in the documentation: https://pandas.pydata.org/pandas-docs/stable/user_guide/indexing.html#returning-a-view-versus-a-copy\n",
      "  the_2022['pc of int\\'l students'] = the_2022['pc of int\\'l students'].replace('', np.nan).astype('float')*0.01\n",
      "C:\\Users\\alion\\AppData\\Local\\Temp\\ipykernel_17544\\1538113793.py:23: SettingWithCopyWarning: \n",
      "A value is trying to be set on a copy of a slice from a DataFrame.\n",
      "Try using .loc[row_indexer,col_indexer] = value instead\n",
      "\n",
      "See the caveats in the documentation: https://pandas.pydata.org/pandas-docs/stable/user_guide/indexing.html#returning-a-view-versus-a-copy\n",
      "  the_2022['female:male ratio'] = ratio_list\n"
     ]
    }
   ],
   "source": [
    "# university\n",
    "uni_f = [uni.split(' (')[0].split(' \"')[0] for uni in the_2022['University']]\n",
    "the_2022['University'] = uni_f\n",
    "# rank\n",
    "rank_range = the_2022['rank'].map({'201–250':'225', '251–300':'275', '301–350':'325', '351–400':'375', '401–500':'450', '501–600':'550','601–800':'700',\n",
    "'801–1000':'900', '1001–1200':'1100', '1201–1500':'1350', '1201+':'1350'})\n",
    "rank_woeq = the_2022['rank'].str.replace('=', '', regex=True)\n",
    "rank_f = [rank_woeq[i] if pd.isna(rank_range[i]) else rank_range[i] for i in range(len(the_2022['rank']))]\n",
    "the_2022['rank'] = rank_f\n",
    "the_2022['rank'] = the_2022['rank'].astype(int)\n",
    "# data\n",
    "the_2022['Total Students'] = the_2022['Total Students'].str.replace(',', '', regex=True)\n",
    "the_2022['Total Students'] = the_2022['Total Students'].astype('Int64')\n",
    "the_2022['student staff ratio'] = the_2022['student staff ratio'].astype('float')\n",
    "the_2022['pc of int\\'l students'] = the_2022['pc of int\\'l students'].str.replace('%', '', regex=True)\n",
    "the_2022['pc of int\\'l students'] = the_2022['pc of int\\'l students'].replace('', np.nan).astype('float')*0.01\n",
    "ratio_list = []\n",
    "for ra in the_2022['female:male ratio']:\n",
    "    try:\n",
    "        ratio_list.append([int(x) for x in ra.split(':')][0] / [int(x) for x in ra.split(':')][1])\n",
    "    except:\n",
    "        ratio_list.append(np.nan)\n",
    "the_2022['female:male ratio'] = ratio_list\n"
   ]
  },
  {
   "cell_type": "code",
   "execution_count": 181,
   "metadata": {},
   "outputs": [],
   "source": [
    "the_2023 = the_2023.dropna()"
   ]
  },
  {
   "cell_type": "code",
   "execution_count": 182,
   "metadata": {},
   "outputs": [],
   "source": [
    "the_2022 = the_2022.dropna()"
   ]
  },
  {
   "cell_type": "code",
   "execution_count": 183,
   "metadata": {},
   "outputs": [],
   "source": [
    "the_2022.to_csv('C:/Users/alion/OneDrive/文件/GitHub/WUR-analysis/THE/the_2022_refine.csv', index = False)\n",
    "the_2023.to_csv('C:/Users/alion/OneDrive/文件/GitHub/WUR-analysis/THE/the_2023_refine.csv', index = False)"
   ]
  },
  {
   "cell_type": "code",
   "execution_count": null,
   "metadata": {},
   "outputs": [],
   "source": []
  },
  {
   "cell_type": "code",
   "execution_count": null,
   "metadata": {},
   "outputs": [],
   "source": []
  }
 ],
 "metadata": {
  "kernelspec": {
   "display_name": "tensorflow",
   "language": "python",
   "name": "python3"
  },
  "language_info": {
   "codemirror_mode": {
    "name": "ipython",
    "version": 3
   },
   "file_extension": ".py",
   "mimetype": "text/x-python",
   "name": "python",
   "nbconvert_exporter": "python",
   "pygments_lexer": "ipython3",
   "version": "3.9.12"
  },
  "orig_nbformat": 4,
  "vscode": {
   "interpreter": {
    "hash": "91c9659ac2f1581738eab8b8fe885b211314b5a33fdc0e566a03c4cdc3e2fc69"
   }
  }
 },
 "nbformat": 4,
 "nbformat_minor": 2
}
