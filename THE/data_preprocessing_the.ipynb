{
 "cells": [
  {
   "cell_type": "code",
   "execution_count": 175,
   "metadata": {},
   "outputs": [],
   "source": [
    "import pandas as pd\n",
    "import numpy as np"
   ]
  },
  {
   "cell_type": "code",
   "execution_count": 176,
   "metadata": {},
   "outputs": [],
   "source": [
    "the_raw_2023 = pd.read_csv('C:/Users/alion/OneDrive/文件/GitHub/WUR-analysis/THE/the_raw_2023.csv', encoding = 'utf8')"
   ]
  },
  {
   "cell_type": "code",
   "execution_count": 177,
   "metadata": {},
   "outputs": [],
   "source": [
    "the_2023 = the_raw_2023\n",
    "the_2023 = the_2023[the_2023['rank'] != 'Reporter']"
   ]
  },
  {
   "cell_type": "code",
   "execution_count": 178,
   "metadata": {},
   "outputs": [],
   "source": [
    "# university\n",
    "uni_f = [uni.split(' (')[0].split(' \"')[0] for uni in the_2023['University']]\n",
    "the_2023['University'] = uni_f\n",
    "# rank\n",
    "rank_range = the_2023['rank'].map({'201–250':'225', '251–300':'275', '301–350':'325', '351–400':'375', '401–500':'450', '501–600':'550','601–800':'700',\n",
    "'801–1000':'900', '1001–1200':'1100', '1201–1500':'1350', '1201+':'1350'})\n",
    "rank_woeq = the_2023['rank'].str.replace('=', '', regex=True)\n",
    "rank_f = [rank_woeq[i] if pd.isna(rank_range[i]) else rank_range[i] for i in range(len(the_2023['rank']))]\n",
    "the_2023['rank'] = rank_f\n",
    "the_2023['rank'] = the_2023['rank'].astype(int)\n",
    "# data\n",
    "the_2023['Total Students'] = the_2023['Total Students'].str.replace(',', '', regex=True)\n",
    "the_2023['Total Students'] = the_2023['Total Students'].astype('Int64')\n",
    "the_2023['student staff ratio'] = the_2023['student staff ratio'].astype('float')\n",
    "the_2023['pc of int\\'l students'] = the_2023['pc of int\\'l students'].str.replace('%', '', regex=True)\n",
    "the_2023['pc of int\\'l students'] = the_2023['pc of int\\'l students'].replace('', np.nan).astype('float')*0.01\n",
    "ratio_list = []\n",
    "for ra in the_2023['female:male ratio']:\n",
    "    try:\n",
    "        ratio_list.append([int(x) for x in ra.split(':')][0] / [int(x) for x in ra.split(':')][1])\n",
    "    except:\n",
    "        ratio_list.append(np.nan)\n",
    "the_2023['female:male ratio'] = ratio_list\n"
   ]
  },
  {
   "cell_type": "code",
   "execution_count": 181,
   "metadata": {},
   "outputs": [],
   "source": [
    "the_2023 = the_2023.dropna()"
   ]
  },
  {
   "cell_type": "code",
   "execution_count": 183,
   "metadata": {},
   "outputs": [],
   "source": [
    "the_2023.to_csv('C:/Users/alion/OneDrive/文件/GitHub/WUR-analysis/THE/the_2023_refine.csv', index = False)"
   ]
  },
  {
   "cell_type": "code",
   "execution_count": null,
   "metadata": {},
   "outputs": [],
   "source": []
  },
  {
   "cell_type": "code",
   "execution_count": null,
   "metadata": {},
   "outputs": [],
   "source": []
  }
 ],
 "metadata": {
  "kernelspec": {
   "display_name": "tensorflow",
   "language": "python",
   "name": "python3"
  },
  "language_info": {
   "codemirror_mode": {
    "name": "ipython",
    "version": 3
   },
   "file_extension": ".py",
   "mimetype": "text/x-python",
   "name": "python",
   "nbconvert_exporter": "python",
   "pygments_lexer": "ipython3",
   "version": "3.9.12"
  },
  "orig_nbformat": 4,
  "vscode": {
   "interpreter": {
    "hash": "91c9659ac2f1581738eab8b8fe885b211314b5a33fdc0e566a03c4cdc3e2fc69"
   }
  }
 },
 "nbformat": 4,
 "nbformat_minor": 2
}
