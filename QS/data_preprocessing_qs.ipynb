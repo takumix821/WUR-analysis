{
 "cells": [
  {
   "cell_type": "code",
   "execution_count": 57,
   "metadata": {},
   "outputs": [],
   "source": [
    "import pandas as pd\n",
    "import numpy as np"
   ]
  },
  {
   "cell_type": "code",
   "execution_count": 58,
   "metadata": {},
   "outputs": [],
   "source": [
    "qs_raw_2023 = pd.read_csv('C:/Users/alion/OneDrive/文件/GitHub/WUR-analysis/QS/qs_raw_2023.csv', encoding = 'utf8')"
   ]
  },
  {
   "cell_type": "code",
   "execution_count": 59,
   "metadata": {},
   "outputs": [],
   "source": [
    "qs_rank_2023 = pd.read_csv('C:/Users/alion/OneDrive/文件/GitHub/WUR-analysis/QS/qs_rank_2023.csv', encoding = 'utf8')"
   ]
  },
  {
   "cell_type": "code",
   "execution_count": 60,
   "metadata": {},
   "outputs": [],
   "source": [
    "qs_2023 = qs_raw_2023.merge(qs_rank_2023, how = 'right', on = 'University')"
   ]
  },
  {
   "cell_type": "code",
   "execution_count": 61,
   "metadata": {},
   "outputs": [],
   "source": [
    "col_names = ['University', 'Total students', 'PG rate', 'UG rate', 'International students', 'Int\\'l PG rate', 'Int\\'l UG rate', 'Total faculty staff', 'Int\\'l staff rate', 'Domestic staff rate', 'rank']\n",
    "qs_2023.columns = col_names"
   ]
  },
  {
   "cell_type": "markdown",
   "metadata": {},
   "source": [
    "feature engineering"
   ]
  },
  {
   "cell_type": "code",
   "execution_count": 62,
   "metadata": {},
   "outputs": [],
   "source": [
    "# university\n",
    "uni_f = [uni.split(' (')[0].split(' \"')[0] for uni in qs_2023['University']]\n",
    "qs_2023['University'] = uni_f\n",
    "# rank\n",
    "rank_range = qs_2023['rank'].map({'501-510': '505', '511-520': '515', '521-530': '525', '531-540': '535', '541-550': '545', '551-560': '555',\n",
    "'561-570': '565', '571-580': '575', '581-590': '585', '591-600': '595', '601-650': '625', '651-700': '675',\n",
    "'701-750': '725', '751-800': '775', '801-1000': '900', '1001-1200': '1100', '1201-1400': '1300', '1201+': '1300'})\n",
    "rank_woeq = qs_2023['rank'].str.replace('=', '', regex=True)\n",
    "rank_f = [rank_woeq[i] if pd.isna(rank_range[i]) else rank_range[i] for i in range(len(qs_2023['rank']))]\n",
    "qs_2023['rank'] = rank_f\n",
    "qs_2023['rank'] = qs_2023['rank'].astype(int)\n",
    "# data\n",
    "to_int = ['Total students', 'International students', 'Total faculty staff']\n",
    "for col in to_int:\n",
    "    qs_2023[col] = qs_2023[col].str.replace(',', '', regex=True)\n",
    "    qs_2023[col] = qs_2023[col].astype('Int64')\n",
    "to_rate = ['PG rate', 'UG rate', 'Int\\'l PG rate', 'Int\\'l UG rate', 'Int\\'l staff rate', 'Domestic staff rate']\n",
    "for col in to_rate:\n",
    "    qs_2023[col] = qs_2023[col].str.replace('%', '', regex=True)\n",
    "    qs_2023[col] = qs_2023[col].replace('', np.nan).astype('float')*0.01"
   ]
  },
  {
   "cell_type": "code",
   "execution_count": 66,
   "metadata": {},
   "outputs": [],
   "source": [
    "qs_2023 = qs_2023.dropna()"
   ]
  },
  {
   "cell_type": "code",
   "execution_count": 68,
   "metadata": {},
   "outputs": [],
   "source": [
    "qs_2023.to_csv('C:/Users/alion/OneDrive/文件/GitHub/WUR-analysis/QS/qs_2023_refine.csv', index = False)"
   ]
  },
  {
   "cell_type": "code",
   "execution_count": null,
   "metadata": {},
   "outputs": [],
   "source": []
  },
  {
   "cell_type": "code",
   "execution_count": null,
   "metadata": {},
   "outputs": [],
   "source": []
  }
 ],
 "metadata": {
  "kernelspec": {
   "display_name": "tensorflow",
   "language": "python",
   "name": "python3"
  },
  "language_info": {
   "codemirror_mode": {
    "name": "ipython",
    "version": 3
   },
   "file_extension": ".py",
   "mimetype": "text/x-python",
   "name": "python",
   "nbconvert_exporter": "python",
   "pygments_lexer": "ipython3",
   "version": "3.9.12"
  },
  "orig_nbformat": 4,
  "vscode": {
   "interpreter": {
    "hash": "91c9659ac2f1581738eab8b8fe885b211314b5a33fdc0e566a03c4cdc3e2fc69"
   }
  }
 },
 "nbformat": 4,
 "nbformat_minor": 2
}
